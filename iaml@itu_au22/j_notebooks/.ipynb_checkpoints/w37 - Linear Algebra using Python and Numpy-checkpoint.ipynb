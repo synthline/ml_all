{
 "cells": [
  {
   "cell_type": "code",
   "execution_count": 1,
   "id": "74f59630",
   "metadata": {},
   "outputs": [],
   "source": [
    "import numpy as np\n",
    "import matplotlib.pyplot as plt"
   ]
  },
  {
   "cell_type": "code",
   "execution_count": 2,
   "id": "5855c152",
   "metadata": {},
   "outputs": [],
   "source": [
    "# Define matrices to be used in the tasks:\n",
    "A = np.array([\n",
    "    [1, 0.5, 1/3, 0.25],\n",
    "    [0.5, 1/3, 0.25, 0.2],\n",
    "    [1/3, 0.25, 0.2, 1/6],\n",
    "    [0.25, 0.2, 1/6, 1/7]\n",
    "])\n",
    "\n",
    "B = np.array([\n",
    "    [-16, 15, -14, 13],\n",
    "    [-12, 11, -10, 9],\n",
    "    [-8, 7, -6, 5],\n",
    "    [-4, 3, -2, 1]\n",
    "])\n",
    "\n",
    "C = np.array([\n",
    "    [1, 1/2, 1/3, 1/4],\n",
    "    [1/2, 1/3, 1/4, 1/5],\n",
    "    [1/3, 1/5, 1/7, 1/9],\n",
    "    [1/4, 1/7, 1/8, 1/9],\n",
    "])"
   ]
  },
  {
   "cell_type": "code",
   "execution_count": null,
   "id": "15705f70",
   "metadata": {},
   "outputs": [],
   "source": []
  },
  {
   "cell_type": "code",
   "execution_count": 3,
   "id": "fc327c8b",
   "metadata": {},
   "outputs": [],
   "source": [
    "# Task B"
   ]
  },
  {
   "cell_type": "code",
   "execution_count": null,
   "id": "89c7eb1e",
   "metadata": {},
   "outputs": [],
   "source": [
    "# Task C\n"
   ]
  }
 ],
 "metadata": {
  "kernelspec": {
   "display_name": "Python 3 (ipykernel)",
   "language": "python",
   "name": "python3"
  },
  "language_info": {
   "codemirror_mode": {
    "name": "ipython",
    "version": 3
   },
   "file_extension": ".py",
   "mimetype": "text/x-python",
   "name": "python",
   "nbconvert_exporter": "python",
   "pygments_lexer": "ipython3",
   "version": "3.9.13"
  }
 },
 "nbformat": 4,
 "nbformat_minor": 5
}
