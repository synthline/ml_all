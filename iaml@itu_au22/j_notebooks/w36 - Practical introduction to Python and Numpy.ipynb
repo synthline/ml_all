{
 "cells": [
  {
   "cell_type": "code",
   "execution_count": 1,
   "id": "5deb00aa",
   "metadata": {},
   "outputs": [],
   "source": [
    "# TASK A:\n",
    "\n",
    "va = [2, 2]\n",
    "vb = [3, 4]"
   ]
  },
  {
   "cell_type": "code",
   "execution_count": 2,
   "id": "3e9ac1ac",
   "metadata": {},
   "outputs": [],
   "source": [
    "def norm(v):\n",
    "    sum = 0\n",
    "    for i in range(0, len(v)):\n",
    "        sum = sum + (v[i]**2)\n",
    "    result = sum**(1/2)\n",
    "    return result"
   ]
  },
  {
   "cell_type": "code",
   "execution_count": 3,
   "id": "bb2878c7",
   "metadata": {},
   "outputs": [],
   "source": [
    "def loop(V):\n",
    "    x = len(v)\n",
    "    for i in range(x):\n",
    "        print(i)"
   ]
  },
  {
   "cell_type": "code",
   "execution_count": 4,
   "id": "9f6cfbc3",
   "metadata": {},
   "outputs": [
    {
     "name": "stdout",
     "output_type": "stream",
     "text": [
      "a 2.8284271247461903\n"
     ]
    }
   ],
   "source": [
    "print('a', norm(va))"
   ]
  },
  {
   "cell_type": "code",
   "execution_count": 5,
   "id": "95e0a74e",
   "metadata": {},
   "outputs": [
    {
     "name": "stdout",
     "output_type": "stream",
     "text": [
      "b 5.0\n"
     ]
    }
   ],
   "source": [
    "print('b', norm(vb))"
   ]
  },
  {
   "cell_type": "code",
   "execution_count": 9,
   "id": "ae3040f3",
   "metadata": {},
   "outputs": [],
   "source": [
    "# TASK B:\n",
    "\n",
    "def norm2(v):\n",
    "    exp = [i**2 for i in v]\n",
    "    result = sum(exp)**(1/2)\n",
    "    return result\n"
   ]
  },
  {
   "cell_type": "code",
   "execution_count": 10,
   "id": "c7f65ed8",
   "metadata": {},
   "outputs": [
    {
     "name": "stdout",
     "output_type": "stream",
     "text": [
      "a 2.8284271247461903\n"
     ]
    }
   ],
   "source": [
    "print('a', norm2(va))"
   ]
  },
  {
   "cell_type": "code",
   "execution_count": 11,
   "id": "55a250a8",
   "metadata": {},
   "outputs": [
    {
     "name": "stdout",
     "output_type": "stream",
     "text": [
      "b 5.0\n"
     ]
    }
   ],
   "source": [
    "print('b', norm2(vb))"
   ]
  },
  {
   "cell_type": "code",
   "execution_count": 67,
   "id": "6e5d3c9f",
   "metadata": {},
   "outputs": [],
   "source": [
    "# Dot Product:\n",
    "#???\n",
    "def dot(a,b):\n",
    "    sum = 0\n",
    "    for i in range(len(a)):\n",
    "        for j in range(len(b)):\n",
    "            sum = sum + (i*j)\n",
    "    return sum"
   ]
  },
  {
   "cell_type": "code",
   "execution_count": 68,
   "id": "2cd71279",
   "metadata": {},
   "outputs": [
    {
     "data": {
      "text/plain": [
       "1"
      ]
     },
     "execution_count": 68,
     "metadata": {},
     "output_type": "execute_result"
    }
   ],
   "source": [
    "dot(va,vb)"
   ]
  },
  {
   "cell_type": "code",
   "execution_count": 63,
   "id": "072d857b",
   "metadata": {},
   "outputs": [],
   "source": [
    "def dot2(a, b):\n",
    "    return sum([a*b for a, b in zip(va, vb)])"
   ]
  },
  {
   "cell_type": "code",
   "execution_count": 65,
   "id": "1a3a2e2c",
   "metadata": {},
   "outputs": [
    {
     "data": {
      "text/plain": [
       "14"
      ]
     },
     "execution_count": 65,
     "metadata": {},
     "output_type": "execute_result"
    }
   ],
   "source": [
    "dot2(va,vb)"
   ]
  },
  {
   "cell_type": "code",
   "execution_count": 7,
   "id": "be522a5c",
   "metadata": {},
   "outputs": [],
   "source": [
    "# Matrix Multiplication:\n",
    "ma = [[2,2],[4,4]]\n",
    "mb = [[5],[6]]"
   ]
  },
  {
   "cell_type": "code",
   "execution_count": 8,
   "id": "bd149d7c",
   "metadata": {},
   "outputs": [
    {
     "data": {
      "text/plain": [
       "[[22, 0], [44, 0]]"
      ]
     },
     "execution_count": 8,
     "metadata": {},
     "output_type": "execute_result"
    }
   ],
   "source": [
    "def matmul(a, b):\n",
    "    # Check for valid matrix sizes\n",
    "    if len(a[0]) != len(b):\n",
    "        raise ValueError(f'Matrices of size ({len(a), len(a[0])}) and ({len(b), len(b[0])}) are not compatible')\n",
    "        \n",
    "    # D = inner_size\n",
    "    inner_size = len(b)   \n",
    "    \n",
    "    # The NxK output matrix, initialised to 0s\n",
    "    out = [[0 for _ in range(inner_size)] for _ in range(inner_size)]\n",
    "    \n",
    "    for row_a in range(len(a)):\n",
    "        for col_b in range(len(b[0])):\n",
    "            \n",
    "            # Application of the formula\n",
    "            out[row_a][col_b] = 0\n",
    "            for i in range(inner_size):\n",
    "                \n",
    "                out[row_a][col_b] += a[row_a][i] * b[i][col_b]\n",
    "    return out\n",
    "    \n",
    "matmul(ma, mb)"
   ]
  },
  {
   "cell_type": "code",
   "execution_count": 9,
   "id": "78ec6db1",
   "metadata": {},
   "outputs": [],
   "source": [
    "import numpy as np\n",
    "\n",
    "vec = np.array([\n",
    "    [1, 2, 3],\n",
    "    [3, 4, 9],\n",
    "    [5, 7, 3]\n",
    "])"
   ]
  },
  {
   "cell_type": "code",
   "execution_count": 10,
   "id": "e49df8fa",
   "metadata": {},
   "outputs": [
    {
     "data": {
      "text/plain": [
       "(3, 3)"
      ]
     },
     "execution_count": 10,
     "metadata": {},
     "output_type": "execute_result"
    }
   ],
   "source": [
    "vec.shape"
   ]
  },
  {
   "cell_type": "code",
   "execution_count": 11,
   "id": "a76bfd29",
   "metadata": {},
   "outputs": [
    {
     "name": "stdout",
     "output_type": "stream",
     "text": [
      "single [1 2 3]\n",
      "vector [2 4]\n",
      "matrix\n",
      " [[1 2]\n",
      " [3 4]\n",
      " [5 7]]\n"
     ]
    }
   ],
   "source": [
    "single = vec[0]\n",
    "print('single', single)\n",
    "\n",
    "vector = vec[:2, 1] # 0's can be ommitted.\n",
    "print('vector', vector)\n",
    "\n",
    "matrix = vec[:, :2]\n",
    "print('matrix\\n', matrix)"
   ]
  },
  {
   "cell_type": "code",
   "execution_count": 12,
   "id": "57c7d12c",
   "metadata": {},
   "outputs": [
    {
     "name": "stdout",
     "output_type": "stream",
     "text": [
      "single 3\n",
      "arange [[1 2]]\n"
     ]
    }
   ],
   "source": [
    "single = vec[-1, -1]\n",
    "print('single', single)\n",
    "\n",
    "arange = vec[0:-2, 0:-1]\n",
    "print('arange', arange)"
   ]
  },
  {
   "cell_type": "code",
   "execution_count": 59,
   "id": "b1db3612",
   "metadata": {},
   "outputs": [],
   "source": [
    "# Task E\n",
    "\n",
    "ur = vec[:2,1:]\n",
    "row = vec[1]\n",
    "col = vec[:,0]\n"
   ]
  },
  {
   "cell_type": "code",
   "execution_count": 60,
   "id": "488cc3ce",
   "metadata": {},
   "outputs": [
    {
     "name": "stdout",
     "output_type": "stream",
     "text": [
      "upper right [[2 3]\n",
      " [4 9]]\n",
      "row [3 4 9]\n",
      "column [1 3 5]\n"
     ]
    }
   ],
   "source": [
    "print('upper right', ur)\n",
    "print('row', row)\n",
    "print('column', col)"
   ]
  },
  {
   "cell_type": "code",
   "execution_count": 61,
   "id": "56627c04",
   "metadata": {},
   "outputs": [],
   "source": [
    "ta = np.random.randint(100, size=(100, 100))\n",
    "tb = np.random.randint(100, size=(100, 100))"
   ]
  },
  {
   "cell_type": "code",
   "execution_count": 62,
   "id": "bd4fa573",
   "metadata": {},
   "outputs": [
    {
     "name": "stdout",
     "output_type": "stream",
     "text": [
      "717 ms ± 80.9 ms per loop (mean ± std. dev. of 7 runs, 1 loop each)\n"
     ]
    }
   ],
   "source": [
    "%timeit matmul(ta, tb)"
   ]
  },
  {
   "cell_type": "code",
   "execution_count": 63,
   "id": "1ae9847b",
   "metadata": {},
   "outputs": [
    {
     "name": "stdout",
     "output_type": "stream",
     "text": [
      "946 µs ± 23.5 µs per loop (mean ± std. dev. of 7 runs, 1,000 loops each)\n"
     ]
    }
   ],
   "source": [
    "%timeit np.dot(ta, tb)"
   ]
  },
  {
   "cell_type": "code",
   "execution_count": 64,
   "id": "7de649c8",
   "metadata": {},
   "outputs": [
    {
     "name": "stdout",
     "output_type": "stream",
     "text": [
      "60.2 µs ± 5.57 µs per loop (mean ± std. dev. of 7 runs, 10,000 loops each)\n"
     ]
    }
   ],
   "source": [
    "%timeit sum(ta)"
   ]
  },
  {
   "cell_type": "code",
   "execution_count": 65,
   "id": "711143ad",
   "metadata": {},
   "outputs": [
    {
     "name": "stdout",
     "output_type": "stream",
     "text": [
      "12.2 µs ± 611 ns per loop (mean ± std. dev. of 7 runs, 100,000 loops each)\n"
     ]
    }
   ],
   "source": [
    "%timeit np.sum(ta)"
   ]
  },
  {
   "cell_type": "code",
   "execution_count": 81,
   "id": "674af1b3",
   "metadata": {},
   "outputs": [],
   "source": [
    "# Task F\n",
    "\n",
    "def norm_np(v):\n",
    "    ??"
   ]
  },
  {
   "cell_type": "code",
   "execution_count": 82,
   "id": "ca01a167",
   "metadata": {
    "scrolled": true
   },
   "outputs": [],
   "source": [
    "vec = np.array([2, 3, 4, 5])\n",
    "norm_np(vec)"
   ]
  },
  {
   "cell_type": "code",
   "execution_count": null,
   "id": "53a3057b",
   "metadata": {},
   "outputs": [],
   "source": []
  }
 ],
 "metadata": {
  "kernelspec": {
   "display_name": "Python 3 (ipykernel)",
   "language": "python",
   "name": "python3"
  },
  "language_info": {
   "codemirror_mode": {
    "name": "ipython",
    "version": 3
   },
   "file_extension": ".py",
   "mimetype": "text/x-python",
   "name": "python",
   "nbconvert_exporter": "python",
   "pygments_lexer": "ipython3",
   "version": "3.9.13"
  },
  "vscode": {
   "interpreter": {
    "hash": "2c4848dcb6e17028dabf53e5a61f3c0577142ed03fbee0af6d0911adabff0637"
   }
  }
 },
 "nbformat": 4,
 "nbformat_minor": 5
}
