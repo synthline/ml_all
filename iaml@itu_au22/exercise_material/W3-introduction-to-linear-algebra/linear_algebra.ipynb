{
    "cells": [
        {
            "cell_type": "code",
            "execution_count": 1,
            "metadata": {
                "jupyter": {
                    "source_hidden": true
                },
                "tags": [
                    "remove-cell"
                ]
            },
            "outputs": [
                {
                    "data": {
                        "text/html": [
                            "<script src=\"https://kit.fontawesome.com/751ade44c1.js\" crossorigin=\"anonymous\"></script>\n",
                            "\n",
                            "<style>\n",
                            ":root {\n",
                            "    --red: #d9534f;\n",
                            "    --yellow: #f0ad4e;\n",
                            "    --green: #5cb85c;\n",
                            "    --blue: #0275d8;\n",
                            "    --light-blue: #5bc0de;\n",
                            "    --dark-blue: #073b4c;\n",
                            "    --purple: #6A4C93;\n",
                            "}\n",
                            "    \n",
                            ".important {\n",
                            "    color: var(--yellow);\n",
                            "}\n",
                            "\n",
                            ".optional {\n",
                            "    color: var(--green);\n",
                            "}\n",
                            "</style>\n"
                        ],
                        "text/plain": [
                            "<IPython.core.display.HTML object>"
                        ]
                    },
                    "metadata": {},
                    "output_type": "display_data"
                }
            ],
            "source": [
                "%%html\n",
                "<script src=\"https://kit.fontawesome.com/751ade44c1.js\" crossorigin=\"anonymous\"></script>\n",
                "\n",
                "<style>\n",
                ":root {\n",
                "    --red: #d9534f;\n",
                "    --yellow: #f0ad4e;\n",
                "    --green: #5cb85c;\n",
                "    --blue: #0275d8;\n",
                "    --light-blue: #5bc0de;\n",
                "    --dark-blue: #073b4c;\n",
                "    --purple: #6A4C93;\n",
                "}\n",
                "    \n",
                ".important {\n",
                "    color: var(--yellow);\n",
                "}\n",
                "\n",
                ".optional {\n",
                "    color: var(--green);\n",
                "}\n",
                "</style>\n"
            ]
        },
        {
            "cell_type": "markdown",
            "metadata": {},
            "source": [
                "# <i class=\"fas fa-circle exercise\"></i>Linear Algebra using Python and Numpy\n",
                "<span class=\"badge badge-pill badge-warning\">exercise</span> <span class=\"badge badge-pill badge-dark\">notebook</span>\n",
                "\n",
                "\n",
                "This exercise introduces basic linear algebra operations in Numpy as well as how to use it to solve systems of linear equations and for performing linear regression using least squares. Your goal should be to familiarise yourself with the theoretical linear algebra concepts and learn some standard applications in Numpy. We cover the following topics:\n",
                "\n",
                "* Basic matrix operations (elementwise operations, transpose, multiplication, inverse)\n",
                "* Properties of matrix multiplication and inversion\n",
                "* Linear equations in matrix form\n",
                "* Solving linear equations using matrix inverses\n"
            ]
        },
        {
            "cell_type": "markdown",
            "metadata": {},
            "source": [
                "## Matrix operations and algebra\n",
                "In this exercise you will learn to perform basic linear algebra operations using Numpy.\n"
            ]
        },
        {
            "cell_type": "markdown",
            "metadata": {},
            "source": [
                "We define a few matrices to be used in the following exercises:\n"
            ]
        },
        {
            "cell_type": "code",
            "execution_count": 2,
            "metadata": {},
            "outputs": [],
            "source": [
                "import numpy as np\n",
                "import matplotlib.pyplot as plt\n"
            ]
        },
        {
            "cell_type": "code",
            "execution_count": 3,
            "metadata": {},
            "outputs": [],
            "source": [
                "A = np.array([\n",
                "    [1, 0.5, 1/3, 0.25],\n",
                "    [0.5, 1/3, 0.25, 0.2],\n",
                "    [1/3, 0.25, 0.2, 1/6],\n",
                "    [0.25, 0.2, 1/6, 1/7]\n",
                "])\n",
                "\n",
                "B = np.array([\n",
                "    [-16, 15, -14, 13],\n",
                "    [-12, 11, -10, 9],\n",
                "    [-8, 7, -6, 5],\n",
                "    [-4, 3, -2, 1]\n",
                "])\n",
                "\n",
                "C = np.array([\n",
                "    [1, 1/2, 1/3, 1/4],\n",
                "    [1/2, 1/3, 1/4, 1/5],\n",
                "    [1/3, 1/5, 1/7, 1/9],\n",
                "    [1/4, 1/7, 1/8, 1/9],\n",
                "])\n",
                "\n"
            ]
        },
        {
            "cell_type": "markdown",
            "metadata": {},
            "source": [
                "### Task A):\n",
                "1. Calculate $A-B$. Then convert each of $A$, $B$, to `np.float16` (use `np.float16(a)`) and try again. Do you observe any difference?\n"
            ]
        },
        {
            "cell_type": "code",
            "execution_count": 4,
            "metadata": {},
            "outputs": [
                {
                    "name": "stdout",
                    "output_type": "stream",
                    "text": [
                        "[[ 17.         -14.5         14.33333333 -12.75      ]\n",
                        " [ 12.5        -10.66666667  10.25        -8.8       ]\n",
                        " [  8.33333333  -6.75         6.2         -4.83333333]\n",
                        " [  4.25        -2.8          2.16666667  -0.85714286]]\n",
                        "[[ 17.     -14.5     14.336  -12.75  ]\n",
                        " [ 12.5    -10.664   10.25    -8.8   ]\n",
                        " [  8.336   -6.75     6.2     -4.832 ]\n",
                        " [  4.25    -2.8      2.166   -0.8574]]\n"
                    ]
                }
            ],
            "source": []
        },
        {
            "cell_type": "markdown",
            "metadata": {},
            "source": [
                "2. Calculate $AC$ and $CA$ using `np.dot`. Are the results what you expected?\n"
            ]
        },
        {
            "cell_type": "code",
            "execution_count": 5,
            "metadata": {},
            "outputs": [
                {
                    "name": "stdout",
                    "output_type": "stream",
                    "text": [
                        "[[1.42361111 0.76904762 0.53720238 0.41481481]\n",
                        " [0.8        0.43968254 0.31071429 0.24166667]\n",
                        " [0.56666667 0.31380952 0.22301587 0.17407407]\n",
                        " [0.44126984 0.24540816 0.175      0.13689153]]\n",
                        "[[1.42361111 0.8        0.56666667 0.44126984]\n",
                        " [0.8        0.46361111 0.33333333 0.26190476]\n",
                        " [0.50873016 0.29126984 0.20820106 0.16301587]\n",
                        " [0.39087302 0.22609127 0.16256614 0.12777778]]\n"
                    ]
                }
            ],
            "source": []
        },
        {
            "cell_type": "markdown",
            "metadata": {},
            "source": [
                "3. Calculate $A\\cdot C$ using the `*` operator. Explain the difference between `np.dot` and `*`.\n"
            ]
        },
        {
            "cell_type": "code",
            "execution_count": 6,
            "metadata": {},
            "outputs": [
                {
                    "data": {
                        "text/plain": [
                            "array([[1.        , 0.25      , 0.11111111, 0.0625    ],\n",
                            "       [0.25      , 0.11111111, 0.0625    , 0.04      ],\n",
                            "       [0.11111111, 0.05      , 0.02857143, 0.01851852],\n",
                            "       [0.0625    , 0.02857143, 0.02083333, 0.01587302]])"
                        ]
                    },
                    "execution_count": 6,
                    "metadata": {},
                    "output_type": "execute_result"
                }
            ],
            "source": []
        },
        {
            "cell_type": "markdown",
            "metadata": {},
            "source": [
                "4. Calculate inverses of $A$ and $C$. Use `np.linalg.inv` to achieve this. ([docs](https://docs.scipy.org/doc/numpy/reference/generated/numpy.linalg.inv.html))\n"
            ]
        },
        {
            "cell_type": "code",
            "execution_count": 7,
            "metadata": {},
            "outputs": [],
            "source": []
        },
        {
            "cell_type": "markdown",
            "metadata": {},
            "source": [
                "5. Calculate $AA^{-1}$. Is the result what you expected? Calculate $CC^{-1}$. How do they compare? *Note: You may want to use `np.around(a, dec)` ([docs](https://docs.scipy.org/doc/numpy/reference/generated/numpy.around.html#numpy.around)) to round the results for easier visual inspection*.\n"
            ]
        },
        {
            "cell_type": "code",
            "execution_count": 8,
            "metadata": {},
            "outputs": [
                {
                    "name": "stdout",
                    "output_type": "stream",
                    "text": [
                        "[[ 1.  0.  0.  0.]\n",
                        " [-0.  1.  0.  0.]\n",
                        " [ 0. -0.  1. -0.]\n",
                        " [-0.  0. -0.  1.]]\n",
                        "[[ 1.  0.  0.  0.]\n",
                        " [ 0.  1. -0.  0.]\n",
                        " [-0. -0.  1.  0.]\n",
                        " [-0.  0.  0.  1.]]\n"
                    ]
                }
            ],
            "source": []
        },
        {
            "cell_type": "markdown",
            "metadata": {},
            "source": [
                "### Task B)\n",
                "The next tasks require two more matrices:\n"
            ]
        },
        {
            "cell_type": "code",
            "execution_count": 9,
            "metadata": {},
            "outputs": [],
            "source": [
                "D = np.array([\n",
                "    [2, 4, 5/2],\n",
                "    [-3/4, 2, 0.25],\n",
                "    [0.25, 0.5, 2]\n",
                "])\n",
                "\n",
                "E = np.array([\n",
                "    [1, -0.5, 3/4],\n",
                "    [3/2, 0.5, -2],\n",
                "    [0.25, 1, 0.5]\n",
                "])\n",
                "\n",
                "D_inv = np.linalg.inv(D)\n",
                "E_inv = np.linalg.inv(E)\n"
            ]
        },
        {
            "cell_type": "markdown",
            "metadata": {},
            "source": [
                "1. Calculate $D^{-1}E^{-1}$, $(DE)^{-1}$, and $(ED)^{-1}$. Compare the results.\n"
            ]
        },
        {
            "cell_type": "code",
            "execution_count": 10,
            "metadata": {},
            "outputs": [
                {
                    "name": "stdout",
                    "output_type": "stream",
                    "text": [
                        "[[ 0.25261376  0.13578836 -0.51301587]\n",
                        " [-0.08601058  0.11462434  0.18539683]\n",
                        " [ 0.16592593 -0.18962963  0.17777778]]\n",
                        "[[ 0.21096296 -0.256      -0.1517037 ]\n",
                        " [-0.15365079  0.20571429  0.56634921]\n",
                        " [ 0.05367196 -0.28342857  0.12833862]]\n",
                        "[[ 0.25261376  0.13578836 -0.51301587]\n",
                        " [-0.08601058  0.11462434  0.18539683]\n",
                        " [ 0.16592593 -0.18962963  0.17777778]]\n"
                    ]
                }
            ],
            "source": []
        },
        {
            "cell_type": "markdown",
            "metadata": {},
            "source": [
                "2. Calculate both $(D^{-1})^T$ and $(D^T)^{-1}$. Compare the results. *Note: The transpose of an array in Numpy is written as `a.T` where `a` is the name of the array variable.*\n"
            ]
        },
        {
            "cell_type": "code",
            "execution_count": 12,
            "metadata": {},
            "outputs": [
                {
                    "name": "stdout",
                    "output_type": "stream",
                    "text": [
                        "[[ 0.32804233  0.13227513 -0.07407407]\n",
                        " [-0.57142857  0.28571429  0.        ]\n",
                        " [-0.33862434 -0.2010582   0.59259259]]\n",
                        "[[ 0.32804233  0.13227513 -0.07407407]\n",
                        " [-0.57142857  0.28571429 -0.        ]\n",
                        " [-0.33862434 -0.2010582   0.59259259]]\n"
                    ]
                }
            ],
            "source": []
        },
        {
            "cell_type": "markdown",
            "metadata": {},
            "source": [
                "## Linear equations\n"
            ]
        },
        {
            "cell_type": "markdown",
            "metadata": {},
            "source": [
                "We now turn our attention to systems of linear equations. As explained during the lecture, matrices can represent systems of linear equations. In this view, a row $r_i$ of a matrix $A$ is the coefficients of one equation. The solutions are represented as a vector $\\mathbf{b}$ where $b_i$ is the solution to equation $r_i$. The matrix-form of a linear equation system is then\n",
                "\n",
                "$$\n",
                "Ax=b\n",
                "$$\n",
                "\n",
                "and a solution can be found using\n",
                "\n",
                "$$\n",
                "\\begin{align}\n",
                "A^{-1}Ax&=A^{-1}b\\\\\n",
                "x &= A^{-1}b.\n",
                "\\end{align}\n",
                "$$\n",
                "\n",
                "### Task C)\n",
                "Solve each of the following equation systems by calculating $A^{-1}b$:\n",
                "\n",
                "a)\n",
                "\n",
                "$$ \n",
                "\\begin{align}\n",
                "2x + 3y  &= -1\\\\\n",
                "x + y  &= 0\\\\\n",
                "\\end{align}\n",
                "$$\n",
                "\n",
                "b)\n",
                "\n",
                "$$\n",
                "\\begin{align}\n",
                "1x + 0y  &= 5\\\\\n",
                "0x + 1y  &= 7\\\\\n",
                "\\end{align}\n",
                "$$\n",
                "\n",
                "c)\n",
                "\n",
                "$$\n",
                "\\begin{align}\n",
                "0x + y  &= -1\\\\\n",
                "-2x + -3y  &= 2\\\\\n",
                "\\end{align}\n",
                "$$\n",
                "\n",
                "d)\n",
                "\n",
                "$$\n",
                "\\begin{align}\n",
                "x + -3y + 3z &= 0.5\\\\\n",
                "x - 5y + 3z& = 0.5\\\\\n",
                "6z + -6y + 4x &= 1.\n",
                "\\end{align}\n",
                "$$\n",
                "\n",
                "e)\n",
                "\n",
                "$$\n",
                "\\begin{align}\n",
                "2x + 3y + 4z &= 2\\\\\n",
                "x + 4z + y &= -2\\\\\n",
                "4z + 5y + 2x &= 3.\n",
                "\\end{align}\n",
                "$$\n",
                "\n",
                "f)\n",
                "\n",
                "$$\n",
                "\\begin{align}\n",
                "x + y + z &= 2\\\\\n",
                "2x + 2z + 2y &= -2\\\\\n",
                "3z + 3y + 3x &= 3.\n",
                "\\end{align}\n",
                "$$\n"
            ]
        },
        {
            "cell_type": "code",
            "execution_count": 16,
            "metadata": {},
            "outputs": [
                {
                    "name": "stdout",
                    "output_type": "stream",
                    "text": [
                        "Solution a:  [ 1. -1.]\n",
                        "Solution b:  [5. 7.]\n",
                        "Solution c:  [ 0.5 -1. ]\n",
                        "Solution d:  [-5.55111512e-17  1.58603289e-17  1.66666667e-01]\n",
                        "Solution e:  [ 3.     0.5   -1.375]\n"
                    ]
                },
                {
                    "ename": "LinAlgError",
                    "evalue": "Singular matrix",
                    "output_type": "error",
                    "traceback": [
                        "\u001b[0;31m---------------------------------------------------------------------------\u001b[0m",
                        "\u001b[0;31mLinAlgError\u001b[0m                               Traceback (most recent call last)",
                        "\u001b[0;32m<ipython-input-16-649084a552b1>\u001b[0m in \u001b[0;36m<module>\u001b[0;34m\u001b[0m\n\u001b[1;32m     56\u001b[0m \u001b[0msolve\u001b[0m\u001b[0;34m(\u001b[0m\u001b[0mA_d\u001b[0m\u001b[0;34m,\u001b[0m \u001b[0mb_d\u001b[0m\u001b[0;34m,\u001b[0m \u001b[0;34m'd'\u001b[0m\u001b[0;34m)\u001b[0m\u001b[0;34m\u001b[0m\u001b[0;34m\u001b[0m\u001b[0m\n\u001b[1;32m     57\u001b[0m \u001b[0msolve\u001b[0m\u001b[0;34m(\u001b[0m\u001b[0mA_e\u001b[0m\u001b[0;34m,\u001b[0m \u001b[0mb_e\u001b[0m\u001b[0;34m,\u001b[0m \u001b[0;34m'e'\u001b[0m\u001b[0;34m)\u001b[0m\u001b[0;34m\u001b[0m\u001b[0;34m\u001b[0m\u001b[0m\n\u001b[0;32m---> 58\u001b[0;31m \u001b[0msolve\u001b[0m\u001b[0;34m(\u001b[0m\u001b[0mA_f\u001b[0m\u001b[0;34m,\u001b[0m \u001b[0mb_f\u001b[0m\u001b[0;34m,\u001b[0m \u001b[0;34m'f'\u001b[0m\u001b[0;34m)\u001b[0m\u001b[0;34m\u001b[0m\u001b[0;34m\u001b[0m\u001b[0m\n\u001b[0m\u001b[1;32m     59\u001b[0m \u001b[0;31m# >>\u001b[0m\u001b[0;34m\u001b[0m\u001b[0;34m\u001b[0m\u001b[0;34m\u001b[0m\u001b[0m\n",
                        "\u001b[0;32m<ipython-input-16-649084a552b1>\u001b[0m in \u001b[0;36msolve\u001b[0;34m(A, b, title)\u001b[0m\n\u001b[1;32m     49\u001b[0m \u001b[0;34m\u001b[0m\u001b[0m\n\u001b[1;32m     50\u001b[0m \u001b[0;32mdef\u001b[0m \u001b[0msolve\u001b[0m\u001b[0;34m(\u001b[0m\u001b[0mA\u001b[0m\u001b[0;34m,\u001b[0m \u001b[0mb\u001b[0m\u001b[0;34m,\u001b[0m \u001b[0mtitle\u001b[0m\u001b[0;34m)\u001b[0m\u001b[0;34m:\u001b[0m\u001b[0;34m\u001b[0m\u001b[0;34m\u001b[0m\u001b[0m\n\u001b[0;32m---> 51\u001b[0;31m     \u001b[0mprint\u001b[0m\u001b[0;34m(\u001b[0m\u001b[0;34mf'Solution {title}: '\u001b[0m\u001b[0;34m,\u001b[0m \u001b[0mnp\u001b[0m\u001b[0;34m.\u001b[0m\u001b[0mlinalg\u001b[0m\u001b[0;34m.\u001b[0m\u001b[0minv\u001b[0m\u001b[0;34m(\u001b[0m\u001b[0mA\u001b[0m\u001b[0;34m)\u001b[0m\u001b[0;34m.\u001b[0m\u001b[0mdot\u001b[0m\u001b[0;34m(\u001b[0m\u001b[0mb\u001b[0m\u001b[0;34m)\u001b[0m\u001b[0;34m)\u001b[0m\u001b[0;34m\u001b[0m\u001b[0;34m\u001b[0m\u001b[0m\n\u001b[0m\u001b[1;32m     52\u001b[0m \u001b[0;34m\u001b[0m\u001b[0m\n\u001b[1;32m     53\u001b[0m \u001b[0msolve\u001b[0m\u001b[0;34m(\u001b[0m\u001b[0mA_a\u001b[0m\u001b[0;34m,\u001b[0m \u001b[0mb_a\u001b[0m\u001b[0;34m,\u001b[0m \u001b[0;34m'a'\u001b[0m\u001b[0;34m)\u001b[0m\u001b[0;34m\u001b[0m\u001b[0;34m\u001b[0m\u001b[0m\n",
                        "\u001b[0;32m<__array_function__ internals>\u001b[0m in \u001b[0;36minv\u001b[0;34m(*args, **kwargs)\u001b[0m\n",
                        "\u001b[0;32m~/miniconda3/envs/iaml/lib/python3.8/site-packages/numpy/linalg/linalg.py\u001b[0m in \u001b[0;36minv\u001b[0;34m(a)\u001b[0m\n\u001b[1;32m    544\u001b[0m     \u001b[0msignature\u001b[0m \u001b[0;34m=\u001b[0m \u001b[0;34m'D->D'\u001b[0m \u001b[0;32mif\u001b[0m \u001b[0misComplexType\u001b[0m\u001b[0;34m(\u001b[0m\u001b[0mt\u001b[0m\u001b[0;34m)\u001b[0m \u001b[0;32melse\u001b[0m \u001b[0;34m'd->d'\u001b[0m\u001b[0;34m\u001b[0m\u001b[0;34m\u001b[0m\u001b[0m\n\u001b[1;32m    545\u001b[0m     \u001b[0mextobj\u001b[0m \u001b[0;34m=\u001b[0m \u001b[0mget_linalg_error_extobj\u001b[0m\u001b[0;34m(\u001b[0m\u001b[0m_raise_linalgerror_singular\u001b[0m\u001b[0;34m)\u001b[0m\u001b[0;34m\u001b[0m\u001b[0;34m\u001b[0m\u001b[0m\n\u001b[0;32m--> 546\u001b[0;31m     \u001b[0mainv\u001b[0m \u001b[0;34m=\u001b[0m \u001b[0m_umath_linalg\u001b[0m\u001b[0;34m.\u001b[0m\u001b[0minv\u001b[0m\u001b[0;34m(\u001b[0m\u001b[0ma\u001b[0m\u001b[0;34m,\u001b[0m \u001b[0msignature\u001b[0m\u001b[0;34m=\u001b[0m\u001b[0msignature\u001b[0m\u001b[0;34m,\u001b[0m \u001b[0mextobj\u001b[0m\u001b[0;34m=\u001b[0m\u001b[0mextobj\u001b[0m\u001b[0;34m)\u001b[0m\u001b[0;34m\u001b[0m\u001b[0;34m\u001b[0m\u001b[0m\n\u001b[0m\u001b[1;32m    547\u001b[0m     \u001b[0;32mreturn\u001b[0m \u001b[0mwrap\u001b[0m\u001b[0;34m(\u001b[0m\u001b[0mainv\u001b[0m\u001b[0;34m.\u001b[0m\u001b[0mastype\u001b[0m\u001b[0;34m(\u001b[0m\u001b[0mresult_t\u001b[0m\u001b[0;34m,\u001b[0m \u001b[0mcopy\u001b[0m\u001b[0;34m=\u001b[0m\u001b[0;32mFalse\u001b[0m\u001b[0;34m)\u001b[0m\u001b[0;34m)\u001b[0m\u001b[0;34m\u001b[0m\u001b[0;34m\u001b[0m\u001b[0m\n\u001b[1;32m    548\u001b[0m \u001b[0;34m\u001b[0m\u001b[0m\n",
                        "\u001b[0;32m~/miniconda3/envs/iaml/lib/python3.8/site-packages/numpy/linalg/linalg.py\u001b[0m in \u001b[0;36m_raise_linalgerror_singular\u001b[0;34m(err, flag)\u001b[0m\n\u001b[1;32m     86\u001b[0m \u001b[0;34m\u001b[0m\u001b[0m\n\u001b[1;32m     87\u001b[0m \u001b[0;32mdef\u001b[0m \u001b[0m_raise_linalgerror_singular\u001b[0m\u001b[0;34m(\u001b[0m\u001b[0merr\u001b[0m\u001b[0;34m,\u001b[0m \u001b[0mflag\u001b[0m\u001b[0;34m)\u001b[0m\u001b[0;34m:\u001b[0m\u001b[0;34m\u001b[0m\u001b[0;34m\u001b[0m\u001b[0m\n\u001b[0;32m---> 88\u001b[0;31m     \u001b[0;32mraise\u001b[0m \u001b[0mLinAlgError\u001b[0m\u001b[0;34m(\u001b[0m\u001b[0;34m\"Singular matrix\"\u001b[0m\u001b[0;34m)\u001b[0m\u001b[0;34m\u001b[0m\u001b[0;34m\u001b[0m\u001b[0m\n\u001b[0m\u001b[1;32m     89\u001b[0m \u001b[0;34m\u001b[0m\u001b[0m\n\u001b[1;32m     90\u001b[0m \u001b[0;32mdef\u001b[0m \u001b[0m_raise_linalgerror_nonposdef\u001b[0m\u001b[0;34m(\u001b[0m\u001b[0merr\u001b[0m\u001b[0;34m,\u001b[0m \u001b[0mflag\u001b[0m\u001b[0;34m)\u001b[0m\u001b[0;34m:\u001b[0m\u001b[0;34m\u001b[0m\u001b[0;34m\u001b[0m\u001b[0m\n",
                        "\u001b[0;31mLinAlgError\u001b[0m: Singular matrix"
                    ]
                }
            ],
            "source": [
                "# Write solutions here\n"
            ]
        },
        {
            "cell_type": "markdown",
            "metadata": {},
            "source": [
                "### <i class=\"fas fa-question-circle optional\"></i> *Extra task*\n",
                "Explain, in your own words, why this simple solution works. Your findings in task A-5 should prove useful.\n",
                "\n",
                "## Linear regression\n",
                "\n",
                "The following table gives the training observed data on the world population in billions for five different years.\n",
                "\n",
                "| Year | Population |\n",
                "| ---- | ---------- |\n",
                "| 1960 | 3.0 |\n",
                "| 1970 | 3.7 |\n",
                "| 1975 | 4.1 |\n",
                "| 1980 | 4.5 |\n",
                "| 1985 | 4.8 |\n",
                "\n",
                "In the following, you will make a predictive model using linear regression. Regression is about finding the parameters of the models so that the error between the model and the input data is as small as possible. From the predicted model and its optimal parameters it is possible to to predict the future world population.\n",
                "\n",
                "### Task (D)\n",
                "1. The data is loaded from a text file using `np.loadtxt`. The first column contains the `X` data and the second the `y` data. Plot the data as a line using Matplotlib.\n"
            ]
        },
        {
            "cell_type": "code",
            "execution_count": 18,
            "metadata": {},
            "outputs": [
                {
                    "data": {
                        "image/png": "[encoded data removed]",
                        "text/plain": [
                            "<Figure size 432x288 with 1 Axes>"
                        ]
                    },
                    "metadata": {
                        "needs_background": "light"
                    },
                    "output_type": "display_data"
                }
            ],
            "source": [
                "data = np.loadtxt('./inputs/data.txt')\n",
                "\n",
                "X = data[:, 0] # First column\n",
                "y = data[:, 1] # Second column\n",
                "\n",
                "plt.plot(X, y); \n"
            ]
        },
        {
            "cell_type": "markdown",
            "metadata": {},
            "source": [
                "As mentioned in class we find the optimal line by minimising the squarred error between the predicted values and the actual values. The squarred error is defined as\n",
                "\n",
                "$$\n",
                "E = \\sum_{i=1}^N (y_i-g(x_i))^2,\n",
                "$$\n",
                "\n",
                "where $g(x) = ax-b$, $x_i$, $y_i$ are the inputs and targets, and $a$ and $b$ are the model parameters. The optimum is found by setting the derivative to $0$ and solving for the parameters. In matrix form, this results in the following solution\n",
                "\n",
                "$$\n",
                "\\mathbf{p}= (A^TA)^{-1}A^T\\mathbf{y},\n",
                "$$\n",
                "\n",
                "where $\\mathbf{p} = [\\mathbf{m}, b]$ and $A = \\begin{bmatrix}x_1, 1 \\\\ \\vdots \\\\ x_N, 1\\end{bmatrix}$.\n",
                "\n",
                "### Task E)\n",
                "1. Find a least-squares solution to the data using Numpy's `np.linalg.lstsq(A, y)` function. To create `A`, use `np.ones` and `np.stack` to stack a column of 1's onto the column of X values. Note that `np.linalg.lstsq` returns both the parameters as well as other values. See the [docs](https://numpy.org/doc/1.18/reference/generated/numpy.linalg.lstsq.html) for details.\n",
                "2. Create a function `linear_model(params, X)` that takes the parameters and X as input and returns y-values as output.\n",
                "3. Plot a regression line from 1950-2000 using `linear_model` and the techniques described in the Matplotlib exercise.\n",
                "4. Create a function `mean_squarred_error(params, X, y)` that calculates the average error of the model. It is defined as $\\frac{1}{N}E = \\frac{1}{N}\\sum_{i=1}^N (y_i-g(x_i))^2$.\n"
            ]
        },
        {
            "cell_type": "code",
            "execution_count": 25,
            "metadata": {},
            "outputs": [
                {
                    "name": "stdout",
                    "output_type": "stream",
                    "text": [
                        "0.0006216216216218663\n"
                    ]
                },
                {
                    "data": {
                        "image/png": "[encoded data removed]",
                        "text/plain": [
                            "<Figure size 432x288 with 1 Axes>"
                        ]
                    },
                    "metadata": {
                        "needs_background": "light"
                    },
                    "output_type": "display_data"
                }
            ],
            "source": [
                "# Write solutions here\n"
            ]
        },
        {
            "cell_type": "code",
            "execution_count": null,
            "metadata": {},
            "outputs": [],
            "source": []
        }
    ],
    "metadata": {
        "interpreter": {
            "hash": "58004f4a9b52f30f2f02951fc7e37ee3032cf21ade773b235ffa3b2610a82225"
        },
        "kernelspec": {
            "display_name": "Python 3 (ipykernel)",
            "language": "python",
            "name": "python3"
        },
        "language_info": {
            "codemirror_mode": {
                "name": "ipython",
                "version": 3
            },
            "file_extension": ".py",
            "mimetype": "text/x-python",
            "name": "python",
            "nbconvert_exporter": "python",
            "pygments_lexer": "ipython3",
            "version": "3.9.5"
        }
    },
    "nbformat": 4,
    "nbformat_minor": 4
}