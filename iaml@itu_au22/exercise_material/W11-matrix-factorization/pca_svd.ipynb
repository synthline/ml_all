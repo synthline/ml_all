{
 "cells": [
  {
   "cell_type": "code",
   "execution_count": 1,
   "id": "ee25cb83",
   "metadata": {},
   "outputs": [],
   "source": [
    "import matplotlib.pyplot as plt\n",
    "import numpy as np\n",
    "\n",
    "from utils import *\n"
   ]
  },
  {
   "cell_type": "markdown",
   "id": "3cc9c867",
   "metadata": {
    "tags": []
   },
   "source": [
    "# <i class=\"fas fa-circle\" style=\"color: #f0ad4e;\"></i> PCA with SVD\n",
    "\n",
    "In this exercise you will create recreate the basic PCA implementation from exercise $10.1$ but this time using by doing a singular value decomposition (SVD) of the data matrix. First, for convenience the excerise $10.1$ is posted again, Some of the code from that exercise will be used again throughout this exercise.  \n"
   ]
  },
  {
   "cell_type": "markdown",
   "id": "11655a52",
   "metadata": {},
   "source": [
    "## Implementing PCA\n",
    "\n",
    "Your first task is to implement the PCA method as well as functions for\n",
    "transforming to and from the space defined by the principal components.\n",
    "But first, a quick recap of the terminology to minimize confusion.\n",
    "\n",
    "Principal component analysis is about finding a linear transformation\n",
    "that reduces the number of dimensions used to represent samples while\n",
    "destroying as little of the variation as possible. PCA is defined by\n",
    "$\\Phi_{:k}$, an $M\\times k$ matrix representing a linear transformation from\n",
    "vectors in $M$-dimensional real space to $k$-dimensional latent space. We have the\n",
    "following transformations\n",
    "\n",
    "$$ \n",
    "b = \\Phi_{:k}^\\top x, \n",
    "$$\n",
    "\n",
    "$$\n",
    "x + \\epsilon = \\Phi_{:k} b,\n",
    "$$\n",
    "\n",
    "where\n",
    "$x\\in\\mathbb{R}^M$ is the input vector and $b\\in\\mathbb{R}^K$ is the\n",
    "embedded vector. As shown in the second equation, it is possible to reconstruct $x$ with some amount of error $\\epsilon$. To find $\\Phi$, we use the _eigenvectors_ of the covariance matrix of our data matrix $W$ where each row $i$ is a sample $x_i \\in \\mathbb{R}^M$. The eigenvectors are sorted by their associated eigenvalues which represent the variance of each dimension in latent space. Selecting the $k$ first columns (we use the notation $\\Phi_{:k}$) results in a transformation that reduces the dimensionality of the latent space to $k$ dimensions. \n",
    "\n",
    "\n",
    "1.  <i class=\"fas fa-code\"></i> **Implement PCA:** Create a function that calculates and returns the\n",
    "    principle components of the shapes dataset. Use the method described\n",
    "    above where the eigenvectors of the covariance matrix is used.\n",
    "\n",
    "\n",
    "2.  <i class=\"fas fa-code\"></i> **Implement transformations:** Create two functions, one for\n",
    "    transforming from feature space to principal component space\n",
    "    (eqaution {eq}`trans`) and one for transforming from principal\n",
    "    component space to feature space\n",
    "    (equation {eq}`inv`). You have to subtract the $\\mu$ vector when\n",
    "    transforming to the principal component space and add it again when\n",
    "    transforming back to feature space. You may use the following\n",
    "    modified equations for reference:\n",
    "\n",
    "$$\n",
    "b = \\Phi_{:k}^\\top(x-\\mu)\n",
    "$$  \n",
    "\n",
    "$$\n",
    "x = \\Phi_{:k} b + \\mu\n",
    "$$\n",
    "\n",
    "```{tip}\n",
    "The reading material for the PCA lecture contains an excellent [tutorial](https://sebastianraschka.com/Articles/2014_pca_step_by_step.html) on how this can be done, but remember that copying is not allowed!!\n",
    "```\n",
    "\n",
    "```{tip}\n",
    "Some of the later tasks will be easier if you return all 146 principle components. You can then create another function for extracting $n$ components to generate $\\Phi$.\n",
    "```\n",
    "\n",
    "## Implementing PCA with SVD \n",
    "\n",
    "This exercise serves as an extension to the previous PCA exercise but this time using SVD instead of an explicit eigenvalue decomposition. Recall that an eigenvalue decomp and SVD are equivalent under certain conditions. This means that only the `get_principle_components` function needs to be changed in the notebook.\n",
    "\n",
    "Inspect the covariance matrix $C$ of the shape data (same as in exercise 10.1) given by:\n",
    "\n",
    "$$C = \\frac{W^\\top W}{n-1} $$\n",
    "when the data ($W$) is centered, and where $n$ is the number of data samples. \n",
    "\n",
    "Usually we would find the eigen-values and -vectors of $C$ by doing an eigenvalue decomposition (diagonalizing $C$). But instead we can use that $W$ can be expressed as \n",
    "\n",
    "$$W = U D V^\\top$$\n",
    "\n",
    "If we insert that into the equation for the covariance matrix we get:\n",
    "\n",
    "$$C = \\frac{V D^\\top U^\\top U D V^\\top}{n-1} = V\\frac{D^2}{n-1}V^\\top = V \\Lambda V^\\top  $$\n",
    "\n",
    "One can then se that this exactly matches eigenvalue decomposition where $\\Lambda$ contains the eigenvalues, and $V$ is the eigenvectors. \n",
    "\n",
    "<i class=\"fas fa-code\"></i> Inspect $\\Lambda$ and show that they are identical to the eigenvalues calculated in week 10 (exercise 10.1).\n",
    "\n",
    "<i class=\"fas fa-code\"></i> Show that the vectors $V$ are equivalent to the eigenvectors calculated in week 10 (exercise 10.1).\n",
    "\n",
    "<i class=\"fas fa-code\"></i> Use the formula shown above and SVD to determine the principle components in the function `get_principle_components`.\n"
   ]
  },
  {
   "cell_type": "code",
   "execution_count": 2,
   "id": "7978d397",
   "metadata": {},
   "outputs": [],
   "source": [
    "# Write your implementation here.\n"
   ]
  },
  {
   "cell_type": "code",
   "execution_count": 3,
   "id": "4b44225f",
   "metadata": {},
   "outputs": [
    {
     "name": "stdout",
     "output_type": "stream",
     "text": [
      "120\n"
     ]
    }
   ],
   "source": [
    "#Load data\n",
    "path = './db'\n",
    "shapes, images = face_shape_data(path)\n",
    "\n",
    "# Write your implementation here.\n"
   ]
  },
  {
   "cell_type": "markdown",
   "id": "33f94c0e-fb24-4f02-9022-78e14250105e",
   "metadata": {},
   "source": [
    "## Test of PCA (equivalent to week 10)\n",
    "The rest of the exercise is identical from last week and only serve to test the PCA implementation. If you have solved the exercise last week, just copy paste your code. Otherwise, now is an exellent chance to catch up!\n"
   ]
  },
  {
   "cell_type": "markdown",
   "id": "bb07bbf8",
   "metadata": {
    "tags": []
   },
   "source": [
    "## Evaluating precision\n",
    "\n",
    "As described above, using PCA to transform a sample $x$ to a principal\n",
    "component space and back again likely results in an error $\\epsilon$, called the _reconstruction error_. In this task you will implement a\n",
    "method for calculating this error and use it to test the effect of\n",
    "increasing or decreasing the number of principal components used.\n",
    "\n",
    "When solving regression problems, the error is typically measured as the\n",
    "average distance error, otherwise known as root mean square error\n",
    "(RMSE). This is also used when calculating the construction error. For\n",
    "reference, the RMSE is\n",
    "\n",
    "$$RMSE(x, \\widetilde{x}) = \\sqrt{\\frac{1}{N}\\sum_i (x_i-\\widetilde{x}_i)^2},$$\n",
    "\n",
    "where $x$, $\\widetilde{x}$ are the original and transformed samples\n",
    "respectively and $N$ is the total number of samples $x_i$.\n",
    "\n",
    "Another method for evaluating PCA models is to look at the eigenvalues,\n",
    "where eigenvalue $i$ is denoted $\\lambda^{(i)}$. The eigenvalues explain\n",
    "the variance of each dimension when that data has been transformed by\n",
    "PCA. The sum of all eigenvalues $\\lambda^{(1)}+\\dots+\\lambda^{(n)}$ is\n",
    "equal to the total variance of the data. By comparing all the\n",
    "eigenvalues we can calculate:\n",
    "\n",
    "(1) **Proportional variance:** What proportion of the total variance is\n",
    "explained by a single component. The following formula can be used\n",
    "\n",
    "$$\\frac{\\lambda^{(i)}}{\\lambda^{(1)} + \\dots + \\lambda^{(n)}}$$\n",
    "\n",
    "(2) **Cumulative proportional variance:** What cumulative proportion of\n",
    "the total variance is explained by the first $k$ components.\n",
    "\n",
    "$$\\frac{\\lambda^{(1)} + \\dots + \\lambda^{(k)}}{\\lambda^{(1)} + \\dots + \\lambda^{(n)}}$$\n",
    "\n",
    "\n",
    "1.  **<i class=\"fas fa-code\"></i> Calculate reconstruction error:** Implement a function in your\n",
    "    script that calculates the reconstruction error given a dataset $X$,\n",
    "    principle components $\\Phi$, and a mean vector $\\mu$.\n",
    "\n",
    "2.  **<i class=\"fas fa-code\"></i> Plot reconstruction error:** When constructing $\\Phi$ you may use a single principal component or all of them. Plot the reconstruction error of $\\Phi$ for all possible numbers of principle components. An example is shown in {numref}`fig:plot_var`.\n",
    "\n",
    "3.  **<i class=\"fas fa-code\"></i> Calculate variance:** Create functions that calculate the\n",
    "    _proportional_ and _cumulative proportional_ variance.\n",
    "\n",
    "4.  **<i class=\"fas fa-code\"></i> Plot variance metrics:** Plot both the proportional and cumulative\n",
    "    proportional variance in a single plot. An example is shown in\n",
    "    {numref}`fig:plot_var`.\n",
    "\n",
    "\n",
    "```{figure} ./img/plot_var.png\n",
    "---\n",
    "name: fig:plot_var\n",
    "width: 400px\n",
    "---\n",
    "The expected result of the cumulative and individual variance\n",
    "proportion.\n",
    "```\n"
   ]
  },
  {
   "cell_type": "code",
   "execution_count": 19,
   "id": "54e275a9",
   "metadata": {},
   "outputs": [],
   "source": [
    "# Write your implementation here. reconstruction error, \n"
   ]
  },
  {
   "cell_type": "code",
   "execution_count": 20,
   "id": "2f33d4e2",
   "metadata": {},
   "outputs": [
    {
     "data": {
      "image/png": "[encoded data removed]",
      "text/plain": [
       "<Figure size 432x288 with 1 Axes>"
      ]
     },
     "metadata": {
      "needs_background": "light"
     },
     "output_type": "display_data"
    },
    {
     "data": {
      "image/png": "[encoded data removed]",
      "text/plain": [
       "<Figure size 432x288 with 1 Axes>"
      ]
     },
     "metadata": {
      "needs_background": "light"
     },
     "output_type": "display_data"
    }
   ],
   "source": [
    "# Write your implementation here.\n"
   ]
  },
  {
   "cell_type": "markdown",
   "id": "772966fb-695a-4e45-b1a3-27b2e4027ba7",
   "metadata": {},
   "source": [
    "<i class=\"fas fa-question\"></i> Does the PCA done through SVD produce equvivalent results to the eigenvalue decomposition procedure in week 10?\n"
   ]
  }
 ],
 "metadata": {
  "kernelspec": {
   "display_name": "Python 3 (ipykernel)",
   "language": "python",
   "name": "python3"
  },
  "language_info": {
   "codemirror_mode": {
    "name": "ipython",
    "version": 3
   },
   "file_extension": ".py",
   "mimetype": "text/x-python",
   "name": "python",
   "nbconvert_exporter": "python",
   "pygments_lexer": "ipython3",
   "version": "3.9.5"
  }
 },
 "nbformat": 4,
 "nbformat_minor": 5
}
