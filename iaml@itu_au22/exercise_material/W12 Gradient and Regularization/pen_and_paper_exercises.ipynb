{
    "cells": [
        {
            "cell_type": "markdown",
            "id": "6befa3d1",
            "metadata": {},
            "source": [
                "\n",
                "## $\\rightarrow$ Differentiate the following functions.\n",
                "\n",
                "1. Find $\\frac{\\partial f}{\\partial x}$, where $f\\left( x \\right) = {\\left( {6{x^2} + 7x} \\right)^4}$\n",
                "2. Find $\\frac{\\partial g}{\\partial t}$, where $g\\left( t \\right) = {\\left( {4{t^2} - 3t + 2} \\right)^{ - 2}}$\n",
                "3. Find $\\frac{\\partial g_2}{\\partial x}$, where $ g_2\\left( x \\right) = 2\\sin \\left( {3x + \\tan \\left( x \\right)} \\right) $\n",
                "4. Find $\\frac{\\partial g_3}{\\partial x}$, where $ g_3\\left( x \\right) = {{\\bf{e}}^{1 - \\cos \\left( x \\right)}}$\n",
                "5. Find $\\frac{\\partial g_4}{\\partial t}$, where  $ g_4\\left( x \\right) = {{\\bf{e}}^{1 - \\cos \\left( x \\right)}}$\n",
                "\n"
            ]
        },
        {
            "cell_type": "markdown",
            "id": "2b48353c",
            "metadata": {},
            "source": []
        },
        {
            "cell_type": "markdown",
            "id": "3e17cf32",
            "metadata": {},
            "source": [
                "## $\\rightarrow$ Find the partial derivatives of the multivariate functions\n",
                "\n",
                "1. Find $\\frac{\\partial f}{\\partial x}$ where $f\\left( {x,y,z} \\right) = 4{x^3}{y^2} - {{\\bf{e}}^z}{y^4} + \\frac{{{z^3}}}{{{x^2}}} + 4y - {x^{16}}$\n",
                "2. Find $\\frac{\\partial w}{\\partial y}$ where  $w(x,y,z) = \\cos \\left( {{x^2} + 2y} \\right) - {{\\bf{e}}^{4x - {z^{\\,4}}y}} + {y^3}$\n",
                "3. Find $\\frac{\\partial r}{\\partial z}$  where $ r\\left( {x,y} \\right) = \\frac{{{x^2}}}{{{y^2} + 1}} - \\frac{{{y^2}}}{{{x^2} + y}}$\n",
                "\n"
            ]
        },
        {
            "cell_type": "markdown",
            "id": "1a5b908c",
            "metadata": {},
            "source": []
        },
        {
            "cell_type": "markdown",
            "id": "ff054873",
            "metadata": {},
            "source": [
                "## $\\rightarrow$  Use the Chain Rule to find the partial derivatives $\\frac{\\partial z}{\\partial t}$:\n",
                "Let $z = \\cos \\left( {y(t)\\,{x(t)^2}} \\right)$\n",
                "where $x(t) = {t^4} - 2t$\n",
                "$y(t) = 1 - {t^6}$\n",
                "\n"
            ]
        },
        {
            "cell_type": "markdown",
            "id": "191d762b",
            "metadata": {},
            "source": []
        },
        {
            "cell_type": "markdown",
            "id": "7be3f2a0",
            "metadata": {},
            "source": [
                "### $\\rightarrow$ Determine the gradient, $\\nabla f$ of the following  functions.\n",
                "\n",
                "1. $f\\left( {x,y} \\right) = {x^2}\\sec \\left( {3x} \\right) - \\frac{{{x^2}}}{{{y^3}}}$\n",
                "2. $f\\left( {x,y,z} \\right) = x\\cos \\left( {xy} \\right) + {z^2}{y^4} - 7xz$\n"
            ]
        },
        {
            "cell_type": "markdown",
            "id": "116fe84c",
            "metadata": {},
            "source": []
        },
        {
            "cell_type": "code",
            "execution_count": null,
            "id": "758b2340",
            "metadata": {},
            "outputs": [],
            "source": []
        },
        {
            "cell_type": "code",
            "execution_count": null,
            "id": "908167ec",
            "metadata": {},
            "outputs": [],
            "source": []
        }
    ],
    "metadata": {
        "kernelspec": {
            "display_name": "Python 3 (ipykernel)",
            "language": "python",
            "name": "python3"
        },
        "language_info": {
            "codemirror_mode": {
                "name": "ipython",
                "version": 3
            },
            "file_extension": ".py",
            "mimetype": "text/x-python",
            "name": "python",
            "nbconvert_exporter": "python",
            "pygments_lexer": "ipython3",
            "version": "3.9.2"
        }
    },
    "nbformat": 4,
    "nbformat_minor": 5
}