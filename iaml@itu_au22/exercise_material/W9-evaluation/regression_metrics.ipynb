{
    "cells": [
        {
            "cell_type": "markdown",
            "id": "74a91968",
            "metadata": {},
            "source": [
                "## Regression Metrics\n",
                "In the following you will experiment with evaluation metrics for regression. In particular you will work on the Boston dataset to predict the price for houses with given different features. You have to evaluate the model using Mean Absolute Error (MAE) and Mean squared Error (MSE) and use this to argue for which model is the most appropriate for the given dataset. \n",
                "\n",
                "* Run the following cell to read the dataset\n"
            ]
        },
        {
            "cell_type": "code",
            "execution_count": 10,
            "id": "34bd4020",
            "metadata": {},
            "outputs": [
                {
                    "name": "stdout",
                    "output_type": "stream",
                    "text": [
                        "Dataset Size :  (506, 13) (506,)\n"
                    ]
                }
            ],
            "source": [
                "# read dataset\n",
                "#X, Y = datasets.make_regression(n_samples=200, n_features=20, )\n",
                "import sys\n",
                "import warnings\n",
                "import itertools\n",
                "\n",
                "warnings.filterwarnings(\"ignore\")\n",
                "import sklearn\n",
                "from sklearn import metrics, datasets\n",
                "boston = datasets.load_boston()\n",
                "X, Y = boston.data, boston.target\n",
                "print('Dataset Size : ', X.shape, Y.shape)\n"
            ]
        },
        {
            "cell_type": "markdown",
            "id": "ad455331",
            "metadata": {},
            "source": [
                "You will be splitting a dataset into train/test sets with 80% for a train set and 20% for the test set.\n"
            ]
        },
        {
            "cell_type": "code",
            "execution_count": 11,
            "id": "e343e7e5",
            "metadata": {},
            "outputs": [
                {
                    "name": "stdout",
                    "output_type": "stream",
                    "text": [
                        "Train/Test Size :  (404, 13) (102, 13) (404,) (102,)\n"
                    ]
                }
            ],
            "source": [
                "from sklearn.model_selection import train_test_split\n",
                "X_train, X_test, Y_train, Y_test = train_test_split(X, Y, train_size=0.80, test_size=0.20, random_state=1, )\n",
                "print('Train/Test Size : ', X_train.shape, X_test.shape, Y_train.shape, Y_test.shape)\n"
            ]
        },
        {
            "cell_type": "markdown",
            "id": "1b9016b0",
            "metadata": {},
            "source": [
                "You'll now initialize a simple LinearSVR model and train it on the train dataset. You'll then check its performance by evaluating various regression metrics provided by scikit-learn.\n"
            ]
        },
        {
            "cell_type": "code",
            "execution_count": 12,
            "id": "1210b982",
            "metadata": {},
            "outputs": [
                {
                    "data": {
                        "text/plain": [
                            "LinearSVR()"
                        ]
                    },
                    "execution_count": 12,
                    "metadata": {},
                    "output_type": "execute_result"
                }
            ],
            "source": [
                "from sklearn.svm import LinearSVR\n",
                "\n",
                "svr = LinearSVR()\n",
                "svr.fit(X_train, Y_train)\n"
            ]
        },
        {
            "cell_type": "markdown",
            "id": "7e710a3d",
            "metadata": {},
            "source": [
                "## Mean Absolute Error\n",
                "Mean absolute error is a simple sum of the absolute difference between actual and predicted target value divided by a number of samples.\n",
                "\n",
                "\n",
                "$MAE=\\frac{1}{n}  \\sum_{i=1}^{n}|x_i-y_i|$\n"
            ]
        },
        {
            "cell_type": "code",
            "execution_count": 13,
            "id": "4d17f93c",
            "metadata": {},
            "outputs": [
                {
                    "name": "stdout",
                    "output_type": "stream",
                    "text": [
                        "Test MAE  : 5.335\n",
                        "Train MAE : 4.600\n"
                    ]
                }
            ],
            "source": [
                "from sklearn.metrics import mean_absolute_error\n",
                "Y_preds = svr.predict(X_test)\n",
                "print('Test MAE  : %.3f'%mean_absolute_error(Y_test, Y_preds))\n",
                "print('Train MAE : %.3f'%mean_absolute_error(Y_train, svr.predict(X_train)))\n"
            ]
        },
        {
            "cell_type": "markdown",
            "id": "9e556b0d",
            "metadata": {},
            "source": [
                "## Mean Squared Error\n",
                "Mean Squared Error loss function sum of the squared difference between actual and predicted value divided by a number of samples.\n",
                "\n",
                "$MSE=\\frac{1}{n}  \\sum_{i=1}^{n}(x_i-y_i)^2$\n"
            ]
        },
        {
            "cell_type": "code",
            "execution_count": 14,
            "id": "a7269d4b",
            "metadata": {},
            "outputs": [
                {
                    "name": "stdout",
                    "output_type": "stream",
                    "text": [
                        "Test MSE  : 41.904\n",
                        "Train MSE : 36.101\n"
                    ]
                }
            ],
            "source": [
                "from sklearn.metrics import mean_squared_error, mean_squared_log_error\n",
                "\n",
                "print('Test MSE  : %.3f'%mean_squared_error(Y_test, Y_preds))\n",
                "print('Train MSE : %.3f'%mean_squared_error(Y_train, svr.predict(X_train)))\n"
            ]
        },
        {
            "cell_type": "markdown",
            "id": "ab60019c",
            "metadata": {},
            "source": [
                "# Model Selection\n",
                "In this excercise you will use polynomial fitting in a linear regression model and will try to find the optimal complexity by looking at the error for different models.   \n"
            ]
        },
        {
            "cell_type": "code",
            "execution_count": 15,
            "id": "dc1c1290",
            "metadata": {},
            "outputs": [],
            "source": [
                "import numpy as np\n",
                "import sklearn\n",
                "import matplotlib.pyplot as plt\n",
                "from sklearn.pipeline import Pipeline\n",
                "from sklearn.preprocessing import PolynomialFeatures\n",
                "from sklearn.linear_model import LinearRegression\n",
                "from sklearn.model_selection import cross_val_score\n"
            ]
        },
        {
            "cell_type": "markdown",
            "id": "4fd59c47",
            "metadata": {},
            "source": [
                "## Dataset\n",
                "Run the cell below to bulid the dataset and then split it to test and train sets. \n"
            ]
        },
        {
            "cell_type": "code",
            "execution_count": 16,
            "id": "b41af7d6",
            "metadata": {},
            "outputs": [
                {
                    "name": "stdout",
                    "output_type": "stream",
                    "text": [
                        "Train/Test Size :  (18,) (12,) (18,) (12,)\n"
                    ]
                }
            ],
            "source": [
                "from sklearn.model_selection import train_test_split\n",
                "\n",
                "#cosin function\n",
                "def true_fun(X):\n",
                "    return np.cos(1.5 * np.pi * X)\n",
                "\n",
                "np.random.seed(0)\n",
                "\n",
                "n_samples = 30\n",
                "\n",
                "X = np.sort(np.random.rand(n_samples))\n",
                "y = true_fun(X) + np.random.randn(n_samples) * 0.1\n",
                "\n",
                "\n",
                "X_train, X_test, Y_train, Y_test = train_test_split(X, y, train_size=0.60, test_size=0.40, random_state=1)\n",
                "print('Train/Test Size : ', X_train.shape, X_test.shape, Y_train.shape, Y_test.shape)\n"
            ]
        },
        {
            "cell_type": "markdown",
            "id": "63ef4dde",
            "metadata": {},
            "source": [
                "## Polynomial model \n",
                "\n",
                "In the next cell you will bulid a polynomial regression model. The MSE and MAE for test set is claculated and printed. Change the \"order\" of the polynomial  and observe how the model performance vary.  \n",
                "\n",
                "degree=5\n",
                "polynomial_features = PolynomialFeatures(degree=degree, include_bias=False)\n",
                "linear_regression = LinearRegression()\n",
                "pipeline = Pipeline(\n",
                "    [\n",
                "        (\"polynomial_features\", polynomial_features),\n",
                "        (\"linear_regression\", linear_regression),\n",
                "    ]\n",
                ")\n",
                "pipeline.fit(X_train[:, np.newaxis], Y_train)\n",
                "\n",
                "\n",
                "# Evaluate the models \n",
                "scores_mse = cross_val_score(\n",
                "        pipeline, X[:, np.newaxis], y, scoring=\"neg_mean_squared_error\", cv=10\n",
                "    )\n",
                "scores_mae = cross_val_score(\n",
                "    pipeline, X[:, np.newaxis], y, scoring=\"neg_mean_absolute_error\", cv=10\n",
                ")\n",
                "\n",
                "MSE=-scores_mse.mean()\n",
                "MAE=-scores_mae.mean()\n",
                "print(\"MSE_test\",MSE)\n",
                "print(\"MAE_test\",MAE)\n"
            ]
        },
        {
            "cell_type": "code",
            "execution_count": 17,
            "id": "8e14fa40",
            "metadata": {},
            "outputs": [
                {
                    "name": "stdout",
                    "output_type": "stream",
                    "text": [
                        "MSE_test 0.09867570671336284\n",
                        "MAE_test 0.19397246122967268\n"
                    ]
                }
            ],
            "source": [
                "degree=5\n",
                "polynomial_features = PolynomialFeatures(degree=degree, include_bias=False)\n",
                "linear_regression = LinearRegression()\n",
                "pipeline = Pipeline(\n",
                "    [\n",
                "        (\"polynomial_features\", polynomial_features),\n",
                "        (\"linear_regression\", linear_regression),\n",
                "    ]\n",
                ")\n",
                "pipeline.fit(X_train[:, np.newaxis], Y_train)\n",
                "\n",
                "\n",
                "# Evaluate the models \n",
                "scores_mse = cross_val_score(\n",
                "        pipeline, X[:, np.newaxis], y, scoring=\"neg_mean_squared_error\", cv=10\n",
                "    )\n",
                "scores_mae = cross_val_score(\n",
                "    pipeline, X[:, np.newaxis], y, scoring=\"neg_mean_absolute_error\", cv=10\n",
                ")\n",
                "\n",
                "MSE=-scores_mse.mean()\n",
                "MAE=-scores_mae.mean()\n",
                "print(\"MSE_test\",MSE)\n",
                "print(\"MAE_test\",MAE)\n"
            ]
        },
        {
            "cell_type": "markdown",
            "id": "ab4d0f7d",
            "metadata": {},
            "source": [
                "## Task 3: Model selection\n",
                "In this task you have to find the order of the polynomial model which has the best performance.\n",
                "\n",
                "1. calculate Mean Squared Error(MSE) and Mean Absolute Error (MAE) using crossvlidation for orders of the polynomial ranging  from 1 to 9 and plot Error vs Complexity(1-9) based on MSE, MAE\n"
            ]
        },
        {
            "cell_type": "markdown",
            "id": "da6a951a",
            "metadata": {},
            "source": [
                "2. find optimal complexity based on each metric. Does the optimal model differ for different metrics? If yes, how you justiy this? \n"
            ]
        },
        {
            "cell_type": "markdown",
            "id": "9829ee9f",
            "metadata": {},
            "source": [
                "## Solution:\n"
            ]
        },
        {
            "cell_type": "code",
            "execution_count": 18,
            "id": "dcdd982c",
            "metadata": {},
            "outputs": [
                {
                    "data": {
                        "text/plain": [
                            "<matplotlib.legend.Legend at 0x7fd3ce4f1400>"
                        ]
                    },
                    "execution_count": 18,
                    "metadata": {},
                    "output_type": "execute_result"
                },
                {
                    "data": {
                        "image/png": "[encoded data removed]",
                        "text/plain": [
                            "<Figure size 432x288 with 1 Axes>"
                        ]
                    },
                    "metadata": {
                        "needs_background": "light"
                    },
                    "output_type": "display_data"
                }
            ],
            "source": [
                "# Copy paste your gaze code here\n"
            ]
        },
        {
            "cell_type": "code",
            "execution_count": null,
            "id": "49948a0a",
            "metadata": {},
            "outputs": [],
            "source": []
        }
    ],
    "metadata": {
        "kernelspec": {
            "display_name": "Python 3 (ipykernel)",
            "language": "python",
            "name": "python3"
        },
        "language_info": {
            "codemirror_mode": {
                "name": "ipython",
                "version": 3
            },
            "file_extension": ".py",
            "mimetype": "text/x-python",
            "name": "python",
            "nbconvert_exporter": "python",
            "pygments_lexer": "ipython3",
            "version": "3.8.8"
        }
    },
    "nbformat": 4,
    "nbformat_minor": 5
}