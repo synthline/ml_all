{
    "cells": [
        {
            "cell_type": "markdown",
            "id": "58863b6a",
            "metadata": {},
            "source": [
                "# Model Evaluation & Scoring Matrices\n",
                "In this excercise, you will see various model evaluation metrics provided in **scikit-learn**.\n",
                "\n",
                "In scikit-learn, the default choice for classification is _accuracy_ which is a number of labels correctly classified and for regression is _r2 which is a coefficient of determination.\n",
                "\n",
                "Scikit-learn has a _metrics_ module that provides other metrics that can be used for other purposes like when there is class imbalance etc. It also lets the user create custom evaluation metrics for a specific task.\n",
                "\n",
                "We'll start by importing necessary libraries for our tutorial and setting few defaults.\n"
            ]
        },
        {
            "cell_type": "markdown",
            "id": "f847880d",
            "metadata": {},
            "source": [
                "**Note**: \n",
                "    In the following cells you will be using model(s) that you are not familar with yet. Don't worry about what happens in the models. You will have everything you need to do the tasks.    \n"
            ]
        },
        {
            "cell_type": "code",
            "execution_count": 1,
            "id": "ebf2eae9",
            "metadata": {},
            "outputs": [
                {
                    "name": "stdout",
                    "output_type": "stream",
                    "text": [
                        "Python Verion :  3.8.8 (default, Apr 13 2021, 12:59:45) \n",
                        "[Clang 10.0.0 ]\n",
                        "Scikit-Learn Version :  1.0.2\n"
                    ]
                }
            ],
            "source": [
                "import numpy as np\n",
                "import pandas as pd\n",
                "import matplotlib.pyplot as plt\n",
                "\n",
                "import sklearn\n",
                "from sklearn import metrics, datasets, neighbors\n",
                "\n",
                "import sys\n",
                "import warnings\n",
                "import itertools\n",
                "\n",
                "warnings.filterwarnings(\"ignore\")\n",
                "np.set_printoptions(precision=2)\n",
                "print(\"Python Verion : \", sys.version)\n",
                "print(\"Scikit-Learn Version : \",sklearn.__version__)\n",
                "\n",
                "%matplotlib inline\n"
            ]
        },
        {
            "cell_type": "markdown",
            "id": "2e3ada32",
            "metadata": {},
            "source": [
                "## Classification Metrics:\n",
                "You 'll be using scikit-learn's in-built methods to create the dataset and use various metrics to evaluate the performance of a model trained on that dataset. We'll create a classification dataset with 500 samples, 20 features, and 2 classes.\n"
            ]
        },
        {
            "cell_type": "code",
            "execution_count": 2,
            "id": "b80b4cfd",
            "metadata": {},
            "outputs": [
                {
                    "name": "stdout",
                    "output_type": "stream",
                    "text": [
                        "Dataset Size :  (500, 20) (500,)\n"
                    ]
                }
            ],
            "source": [
                "X,Y  = datasets.make_classification(n_samples=500, n_features=20, n_classes=2, random_state=1)\n",
                "print('Dataset Size : ',X.shape,Y.shape)\n"
            ]
        },
        {
            "cell_type": "markdown",
            "id": "f817c92c",
            "metadata": {},
            "source": [
                "## Splitting Dataset into Train/Test Sets\n",
                "You'll be splitting a dataset into train set(80% samples) and test set (20% samples).\n"
            ]
        },
        {
            "cell_type": "code",
            "execution_count": 3,
            "id": "faad60e2",
            "metadata": {},
            "outputs": [
                {
                    "name": "stdout",
                    "output_type": "stream",
                    "text": [
                        "Train/Test Size :  (400, 20) (100, 20) (400,) (100,)\n"
                    ]
                }
            ],
            "source": [
                "from sklearn.model_selection import train_test_split\n",
                "\n",
                "X_train, X_test, Y_train, Y_test = train_test_split(X, Y, train_size=0.80, test_size=0.20, stratify=Y, random_state=1)\n",
                "print('Train/Test Size : ', X_train.shape, X_test.shape, Y_train.shape, Y_test.shape)\n"
            ]
        },
        {
            "cell_type": "markdown",
            "id": "ca69d0a2",
            "metadata": {},
            "source": [
                "## Model Initialization and Fitting to Train Data\n",
                "You'll be using a simple LinearSVC model for training purpose. We'll then proceed to introduce various classification metrics which will be evaluating model performance on test data from various angles.\n"
            ]
        },
        {
            "cell_type": "code",
            "execution_count": 4,
            "id": "ef12d0dd",
            "metadata": {},
            "outputs": [
                {
                    "data": {
                        "text/plain": [
                            "LinearSVC(C=0.1, random_state=1)"
                        ]
                    },
                    "execution_count": 4,
                    "metadata": {},
                    "output_type": "execute_result"
                }
            ],
            "source": [
                "from sklearn.svm import LinearSVC\n",
                "\n",
                "linear_svc = LinearSVC(random_state=1, C=0.1)\n",
                "linear_svc.fit(X_train, Y_train)\n"
            ]
        },
        {
            "cell_type": "markdown",
            "id": "cd69f68a",
            "metadata": {},
            "source": [
                "## Classification Accuracy\n",
                "It refers to number of true predictions divided by total number of samples.\n"
            ]
        },
        {
            "cell_type": "code",
            "execution_count": 5,
            "id": "248aa335",
            "metadata": {},
            "outputs": [
                {
                    "name": "stdout",
                    "output_type": "stream",
                    "text": [
                        "[0 1 0 1 1 0 0 0 1 0 1 0 0 0 1]\n",
                        "[0 1 0 1 1 0 0 0 1 0 0 0 0 0 1]\n",
                        "Test Accuracy : 0.930\n",
                        "Test Accuracy : 0.930\n",
                        "Training Accuracy : 0.953\n"
                    ]
                }
            ],
            "source": [
                "Y_preds = linear_svc.predict(X_test)\n",
                "\n",
                "print(Y_preds[:15])\n",
                "print(Y_test[:15])\n",
                "\n",
                "print('Test Accuracy : %.3f'%(Y_preds == Y_test).mean())\n",
                "print('Test Accuracy : %.3f'%linear_svc.score(X_test, Y_test)) ## Score method also evaluates accuracy for classification models.\n",
                "print('Training Accuracy : %.3f'%linear_svc.score(X_train, Y_train))\n"
            ]
        },
        {
            "cell_type": "markdown",
            "id": "af29dea8",
            "metadata": {},
            "source": [
                "## Confusion Matrix\n",
                "For binary and multi-class classification problems, confusion matrix is another metrics which helps in indentifying which classes are easy to predict and which are hard to predict. It provides how many samples for each class are correctly classified and how many are confused with other classes.\n"
            ]
        },
        {
            "cell_type": "code",
            "execution_count": 6,
            "id": "9dfb6380",
            "metadata": {},
            "outputs": [
                {
                    "name": "stdout",
                    "output_type": "stream",
                    "text": [
                        "[[47  3]\n",
                        " [ 4 46]]\n"
                    ]
                }
            ],
            "source": [
                "from sklearn.metrics import confusion_matrix\n",
                "\n",
                "conf_mat = confusion_matrix(Y_test, Y_preds)\n",
                "print(conf_mat)\n"
            ]
        },
        {
            "cell_type": "markdown",
            "id": "397d4dfa",
            "metadata": {},
            "source": [
                "**Confusion Matrix** for binary classification problems has the below-mentioned structure.\n",
                "\n",
                "[[TN, FP ]\n",
                "\n",
                "[FN, TP ]]\n",
                "\n",
                "- **TN** refers to True Negative which is the count of labels which were originally belonged to negative class and model also predicted them as negative.\n",
                "- **FP** refers to False positive which is the count of labels which were actually belonged to negative class but model predicted them as positive.\n",
                "- **FN** refers to False Negative which is the count of labels which were actually belonged to Positive Class but model predicted them as negative.\n",
                "- **TP** refers to True Positive which is the count of labels predicted positive which were actually positive.\n",
                "Below we are plotting the confusion matrix as it helps in interpreting results fast.\n"
            ]
        },
        {
            "cell_type": "code",
            "execution_count": 7,
            "id": "d3234bc0",
            "metadata": {},
            "outputs": [
                {
                    "data": {
                        "image/png": "[encoded data removed]",
                        "text/plain": [
                            "<Figure size 432x432 with 2 Axes>"
                        ]
                    },
                    "metadata": {},
                    "output_type": "display_data"
                }
            ],
            "source": [
                "with plt.style.context(('ggplot', 'seaborn')):\n",
                "    fig = plt.figure(figsize=(6,6), num=1)\n",
                "    plt.imshow(conf_mat, interpolation='nearest',cmap= plt.cm.Blues )\n",
                "    plt.xticks([0,1],[0,1])\n",
                "    plt.yticks([0,1],[0,1])\n",
                "    plt.xlabel('Predicted Label')\n",
                "    plt.ylabel('Actual Label')\n",
                "    for i, j in itertools.product(range(conf_mat.shape[0]), range(conf_mat.shape[1])):\n",
                "                plt.text(j, i,conf_mat[i, j], horizontalalignment=\"center\",color=\"red\")\n",
                "    plt.grid(None)\n",
                "    plt.title('Confusion Matrix')\n",
                "    plt.colorbar();\n"
            ]
        },
        {
            "cell_type": "markdown",
            "id": "bc4f958a",
            "metadata": {},
            "source": [
                "# Classification Report\n",
                "Classification report metrics provides precision, recall, f1-score and support for each class.\n",
                "\n",
                "- **Precision** - It represents how many of predictions of particular class are actually of that class. \ud835\udc43\ud835\udc5f\ud835\udc52\ud835\udc50\ud835\udc56\ud835\udc60\ud835\udc56\ud835\udc5c\ud835\udc5b=\ud835\udc47\ud835\udc43/(\ud835\udc47\ud835\udc43+\ud835\udc39\ud835\udc43).\n",
                "- **Recall** - It represents how many predictions of particular class is right. \ud835\udc45\ud835\udc52\ud835\udc50\ud835\udc4e\ud835\udc59\ud835\udc59=\ud835\udc47\ud835\udc43/(\ud835\udc47\ud835\udc43+\ud835\udc39\ud835\udc41).\n",
                "- **f1-score** - It's geometric average of precision & recall. \ud835\udc391\u2212\ud835\udc46\ud835\udc50\ud835\udc5c\ud835\udc5f\ud835\udc52=2\u2217(\ud835\udc43\ud835\udc5f\ud835\udc52\ud835\udc50\ud835\udc56\ud835\udc60\ud835\udc56\ud835\udc5c\ud835\udc5b\u2217\ud835\udc5f\ud835\udc52\ud835\udc50\ud835\udc4e\ud835\udc59\ud835\udc59)/(\ud835\udc43\ud835\udc5f\ud835\udc52\ud835\udc50\ud835\udc56\ud835\udc60\ud835\udc56\ud835\udc5c\ud835\udc5b+\ud835\udc5f\ud835\udc52\ud835\udc50\ud835\udc4e\ud835\udc59\ud835\udc59)\n",
                "support - It represents number of occurances of particular class in y_true\n"
            ]
        },
        {
            "cell_type": "code",
            "execution_count": 8,
            "id": "4e2a8fa4",
            "metadata": {},
            "outputs": [
                {
                    "name": "stdout",
                    "output_type": "stream",
                    "text": [
                        "Precision                                   : 0.939\n",
                        "Recall                                      : 0.920\n",
                        "F1-Score                                    : 0.929\n",
                        "\n",
                        "Precision Recall F1-Score Support Per Class : \n",
                        " (array([0.92, 0.94]), array([0.94, 0.92]), array([0.93, 0.93]), array([50, 50]))\n",
                        "\n",
                        "Classification Report                       : \n",
                        "              precision    recall  f1-score   support\n",
                        "\n",
                        "           0       0.92      0.94      0.93        50\n",
                        "           1       0.94      0.92      0.93        50\n",
                        "\n",
                        "    accuracy                           0.93       100\n",
                        "   macro avg       0.93      0.93      0.93       100\n",
                        "weighted avg       0.93      0.93      0.93       100\n",
                        "\n"
                    ]
                }
            ],
            "source": [
                "from sklearn.metrics import classification_report, precision_score, recall_score, f1_score, precision_recall_fscore_support\n",
                "\n",
                "print('Precision                                   : %.3f'%precision_score(Y_test, Y_preds))\n",
                "print('Recall                                      : %.3f'%recall_score(Y_test, Y_preds))\n",
                "print('F1-Score                                    : %.3f'%f1_score(Y_test, Y_preds))\n",
                "print('\\nPrecision Recall F1-Score Support Per Class : \\n',precision_recall_fscore_support(Y_test, Y_preds))\n",
                "print('\\nClassification Report                       : ')\n",
                "print(classification_report(Y_test, Y_preds))\n"
            ]
        },
        {
            "cell_type": "markdown",
            "id": "4c360f94",
            "metadata": {},
            "source": [
                "The classification report is necessary when we want to analyze the performance of a model on individual classes. We want to check whether our model is not biassed towards one class. It helps in the case of <span style=\"color:red\">unbalanced classes</span> as we can understand the performance of a model on individual class. We can further improve the performance of a model by analyzing the performance of it in individual classes using this report.\n",
                "\n",
                "Let\u2019s go below through imbalanced class scenario to understand more and introduce the concept of ROC Curves. You'll create a new dataset of 1000 samples, 10 classes and make it an imbalance for our purpose.\n"
            ]
        },
        {
            "cell_type": "code",
            "execution_count": 9,
            "id": "fdd72234",
            "metadata": {},
            "outputs": [
                {
                    "name": "stdout",
                    "output_type": "stream",
                    "text": [
                        "Dataset Size :  (1000, 20) (1000,)\n"
                    ]
                }
            ],
            "source": [
                "X, Y = datasets.make_classification(n_samples=1000, n_classes=10, n_informative=10)\n",
                "print('Dataset Size : ',X.shape, Y.shape)\n"
            ]
        },
        {
            "cell_type": "markdown",
            "id": "d2f260f3",
            "metadata": {},
            "source": [
                "Below we are creating imbalance by marking all samples with value 0 as True and remaining all classes as False. In our dataset, 10% of values belong to class 0 and the remaining 90% to other classes.\n"
            ]
        },
        {
            "cell_type": "code",
            "execution_count": 10,
            "id": "159da23d",
            "metadata": {},
            "outputs": [],
            "source": [
                "Y = (Y == 0).astype(int) ## We are creating imbalanced classes here.\n"
            ]
        },
        {
            "cell_type": "code",
            "execution_count": 11,
            "id": "6aedfc82",
            "metadata": {},
            "outputs": [
                {
                    "name": "stdout",
                    "output_type": "stream",
                    "text": [
                        "[[0 2 3 0 2 2 1 3]\n",
                        " [4 0 2 2 0 2 2 4]]\n"
                    ]
                }
            ],
            "source": [
                "temp_a=np.random.randint(5, size=(2, 8))\n",
                "print(temp_a)\n"
            ]
        },
        {
            "cell_type": "code",
            "execution_count": 12,
            "id": "3db839d1",
            "metadata": {},
            "outputs": [
                {
                    "name": "stdout",
                    "output_type": "stream",
                    "text": [
                        "[[1 0 0 1 0 0 0 0]\n",
                        " [0 1 0 0 1 0 0 0]]\n"
                    ]
                }
            ],
            "source": [
                "temp_a = (temp_a == 0).astype(int)\n",
                "print(temp_a)\n"
            ]
        },
        {
            "cell_type": "code",
            "execution_count": 13,
            "id": "a05aed39",
            "metadata": {},
            "outputs": [
                {
                    "data": {
                        "text/plain": [
                            "array([0.9, 0.1])"
                        ]
                    },
                    "execution_count": 13,
                    "metadata": {},
                    "output_type": "execute_result"
                }
            ],
            "source": [
                "np.bincount(Y)/  len(Y) ## We can see here that one class is 90% of samples whereas another class represents only 10%\n"
            ]
        },
        {
            "cell_type": "markdown",
            "id": "e61a8226",
            "metadata": {},
            "source": [
                "## Fitting Default SVC Model To Imbalanced Data\n",
                "You'll be using the default <span style=\"color:red\">SVC</span> model with scikit-learn's <span style=\"color:red\">cross_val_score</span> method with cross-validation of 5 folds. It'll divide the dataset into 5 folds and take one of the fold as test data and remaining folds as train data. It'll then train the default SVC model on train data and evaluate performance on test data. It'll try it for all 5 combinations by taking one fold each time as a test set and remaining as a train set.\n"
            ]
        },
        {
            "cell_type": "code",
            "execution_count": 14,
            "id": "4edeee3c",
            "metadata": {},
            "outputs": [
                {
                    "data": {
                        "text/plain": [
                            "array([0.91, 0.91, 0.91, 0.9 , 0.91])"
                        ]
                    },
                    "execution_count": 14,
                    "metadata": {},
                    "output_type": "execute_result"
                }
            ],
            "source": [
                "from sklearn.model_selection import cross_val_score\n",
                "from sklearn.svm import SVC\n",
                "\n",
                "cross_val_score(SVC(), X, Y, cv=5)\n"
            ]
        },
        {
            "cell_type": "markdown",
            "id": "c20a2ec4",
            "metadata": {},
            "source": [
                "\n",
                "We can see that SVC with default parameters is giving 90% accuracy on average for 5-folds cross-validation.\n"
            ]
        },
        {
            "cell_type": "markdown",
            "id": "da9d834f",
            "metadata": {},
            "source": [
                "## Fitting DummyClassifier To Imbalanced Data\n",
                "We'll first try <span style=\"color:red\">DummyClassifier</span> provided by scikit-learn which generally predicts the most occurring label as predicted label each time.\n"
            ]
        },
        {
            "cell_type": "code",
            "execution_count": 15,
            "id": "d283b963",
            "metadata": {},
            "outputs": [
                {
                    "data": {
                        "text/plain": [
                            "array([0.9, 0.9, 0.9, 0.9, 0.9])"
                        ]
                    },
                    "execution_count": 15,
                    "metadata": {},
                    "output_type": "execute_result"
                }
            ],
            "source": [
                "from sklearn.dummy import DummyClassifier\n",
                "\n",
                "cross_val_score(DummyClassifier(strategy=\"most_frequent\"), X, Y, cv=5)\n"
            ]
        },
        {
            "cell_type": "markdown",
            "id": "eeeab364",
            "metadata": {},
            "source": [
                "After trying DummyClassifier which predicts class which frequently occurs, We can see that even that classifier is also giving 90% accuracy. it can leave a person puzzled that how can both models are giving 90% accuracy whereas one is guessing the most frequent class. In this kind of scenario, classification report and ROC Curves can help much to identify the accuracy of our model on individual class.\n",
                "\n",
                "We'll first split our dataset into train and test sets. We'll then check the performance of default SVC and DummyClassifier on predicting individual classes using classification reports. We'll then introduce the ROC Curves concept to get better insights into model performance.\n"
            ]
        },
        {
            "cell_type": "code",
            "execution_count": 16,
            "id": "b27514a6",
            "metadata": {},
            "outputs": [
                {
                    "name": "stdout",
                    "output_type": "stream",
                    "text": [
                        "Train/Test Sizes :  (800, 20) (200, 20) (800,) (200,)\n"
                    ]
                }
            ],
            "source": [
                "X_train, X_test, Y_train, Y_test = train_test_split(X, Y, train_size=0.80, test_size=0.20, stratify=Y)\n",
                "print('Train/Test Sizes : ', X_train.shape, X_test.shape, Y_train.shape, Y_test.shape)\n"
            ]
        },
        {
            "cell_type": "markdown",
            "id": "2a66d0ca",
            "metadata": {},
            "source": [
                "Below we are initializing defaults SVC model, training it and checking its performance on test data.\n"
            ]
        },
        {
            "cell_type": "code",
            "execution_count": 17,
            "id": "483f68b8",
            "metadata": {},
            "outputs": [
                {
                    "name": "stdout",
                    "output_type": "stream",
                    "text": [
                        "              precision    recall  f1-score   support\n",
                        "\n",
                        "           0       0.91      1.00      0.95       180\n",
                        "           1       1.00      0.10      0.18        20\n",
                        "\n",
                        "    accuracy                           0.91       200\n",
                        "   macro avg       0.95      0.55      0.57       200\n",
                        "weighted avg       0.92      0.91      0.88       200\n",
                        "\n"
                    ]
                }
            ],
            "source": [
                "svc = SVC()\n",
                "svc.fit(X_train, Y_train)\n",
                "\n",
                "Y_preds = svc.predict(X_test)\n",
                "\n",
                "print(classification_report(Y_test, Y_preds))\n"
            ]
        },
        {
            "cell_type": "markdown",
            "id": "2dcc3bea",
            "metadata": {},
            "source": [
                "We can see above that <span style=\"color:red\">recall</span> is quite bad for class 1.\n",
                "\n",
                "Below we are initializing the defaults DummyClassifier model, training it and checking its performance on test data.\n"
            ]
        },
        {
            "cell_type": "code",
            "execution_count": 18,
            "id": "84747cff",
            "metadata": {},
            "outputs": [
                {
                    "name": "stdout",
                    "output_type": "stream",
                    "text": [
                        "              precision    recall  f1-score   support\n",
                        "\n",
                        "           0       0.90      1.00      0.95       180\n",
                        "           1       0.00      0.00      0.00        20\n",
                        "\n",
                        "    accuracy                           0.90       200\n",
                        "   macro avg       0.45      0.50      0.47       200\n",
                        "weighted avg       0.81      0.90      0.85       200\n",
                        "\n"
                    ]
                }
            ],
            "source": [
                "dummy_classifier = DummyClassifier(strategy=\"most_frequent\")\n",
                "dummy_classifier.fit(X_train, Y_train)\n",
                "\n",
                "Y_preds = dummy_classifier.predict(X_test)\n",
                "\n",
                "print(classification_report(Y_test, Y_preds))\n"
            ]
        },
        {
            "cell_type": "markdown",
            "id": "238c3504",
            "metadata": {},
            "source": [
                "We can see above that DummyClassifier is performing quite bad in guessing class 1 as both  <span style=\"color:red\">precision</span> and  <span style=\"color:red\">recall</span> are really bad.\n"
            ]
        },
        {
            "cell_type": "markdown",
            "id": "28cfa12f",
            "metadata": {},
            "source": [
                "## task 1:\n",
                "\n",
                "* Calculate Matthews correlation coefficient (MCC) both for SVC model and DummyClassifier model\n",
                "\n",
                "\n",
                "\n",
                "$ MCC=\\frac{TP \\times TN-FP \\times FN}{\\sqrt{(TP+FP)(TP+FN)(TN+FP)(TN+FN)}}$\n"
            ]
        },
        {
            "cell_type": "markdown",
            "id": "c4ddfd6e",
            "metadata": {},
            "source": [
                "## Solution :\n"
            ]
        },
        {
            "cell_type": "code",
            "execution_count": 19,
            "id": "bf3e71a4",
            "metadata": {},
            "outputs": [],
            "source": [
                "# Copy paste your gaze code here\n"
            ]
        },
        {
            "cell_type": "code",
            "execution_count": 20,
            "id": "3d7d0360",
            "metadata": {},
            "outputs": [
                {
                    "name": "stdout",
                    "output_type": "stream",
                    "text": [
                        "MCC: \n",
                        " nan\n"
                    ]
                }
            ],
            "source": [
                "# Copy paste your gaze code here\n"
            ]
        },
        {
            "cell_type": "code",
            "execution_count": 21,
            "id": "915668f5",
            "metadata": {},
            "outputs": [
                {
                    "name": "stdout",
                    "output_type": "stream",
                    "text": [
                        "MCC: \n",
                        " 0.3015113445777636\n"
                    ]
                }
            ],
            "source": [
                "# Copy paste your gaze code here\n"
            ]
        },
        {
            "cell_type": "markdown",
            "id": "da00fb4f",
            "metadata": {},
            "source": [
                "## ROC Curves\n",
                "ROC(Receiver Operating Characteristic) Curve helps better understand the performance of the model when handling an unbalanced dataset. ROC Curve works with the output of prediction function by setting different threshold values to find out different false positives and true positive rates according to the threshold. In the case of SVC, for example, a threshold set for output of <span style=\"color:red\">decision function</span> is 0 whereas ROC Curve tries various values for thresholds like [2,1,-1,-2] including negative threshold values as well. In the case of LogisticRegression, the default threshold is 0.5 and ROC will try default threshold values. For linear regression, the output is a probability between [0,1] hence threshold is set at 0.5 to differentiate positive/negative classes whereas in case of SVC internal kernel function returns value and threshold is set on that value for making a prediction.\n",
                "\n",
                "**Note**: It's restricted to binary classification tasks.\n",
                "\n",
                "The below plot is ROC Curve for SVM on the unbalanced dataset test set.\n"
            ]
        },
        {
            "cell_type": "code",
            "execution_count": 22,
            "id": "894b5985",
            "metadata": {},
            "outputs": [
                {
                    "data": {
                        "image/png": "[encoded data removed]",
                        "text/plain": [
                            "<Figure size 576x432 with 1 Axes>"
                        ]
                    },
                    "metadata": {},
                    "output_type": "display_data"
                }
            ],
            "source": [
                "from sklearn.metrics import roc_curve, roc_auc_score\n",
                "\n",
                "decision_function = svc.decision_function(X_test)\n",
                "fpr, tpr, thresholds = roc_curve(Y_test, decision_function)\n",
                "acc = svc.score(X_test, Y_test)\n",
                "auc = roc_auc_score(Y_test, svc.decision_function(X_test))\n",
                "\n",
                "with plt.style.context(('ggplot','seaborn')):\n",
                "    plt.figure(figsize=(8,6))\n",
                "    plt.scatter(fpr, tpr, c='blue')\n",
                "    plt.plot(fpr, tpr, label=\"Accuracy:%.2f AUC:%.2f\" % (acc, auc), linewidth=2, c='red')\n",
                "    plt.xlabel(\"False Positive Rate\")\n",
                "    plt.ylabel(\"True Positive Rate (recall)\")\n",
                "    plt.title('ROC Curve')\n",
                "    plt.legend(loc='best');\n"
            ]
        },
        {
            "cell_type": "markdown",
            "id": "2d238c70",
            "metadata": {},
            "source": [
                "## Precision-Recall Curve\n",
                "Precision and Recall helps a lot in case of imbalanced datasets. Plotting different values of precision vs recall by setting different thresholds helps in evaluating the performance of the model better in case of imbalance classes. It does not take into consideration true negatives as it's majority class and True positives represent minority class which has quite a few occurrences.\n",
                "\n",
                "The below plot is Precision-Recall Curve for SVM on the unbalanced dataset test set.\n"
            ]
        },
        {
            "cell_type": "code",
            "execution_count": 23,
            "id": "2e23f0f2",
            "metadata": {},
            "outputs": [
                {
                    "data": {
                        "image/png": "[encoded data removed]",
                        "text/plain": [
                            "<Figure size 576x432 with 1 Axes>"
                        ]
                    },
                    "metadata": {},
                    "output_type": "display_data"
                }
            ],
            "source": [
                "from sklearn.metrics import precision_recall_curve, auc,average_precision_score\n",
                "\n",
                "decision_function = svc.decision_function(X_test)\n",
                "precision, recall, thresholds = precision_recall_curve(Y_test, decision_function)\n",
                "acc = svc.score(X_test, Y_test)\n",
                "p_auc = auc(recall, precision)\n",
                "\n",
                "with plt.style.context(('ggplot', 'seaborn')):\n",
                "    plt.figure(figsize=(8,6))\n",
                "    plt.scatter(recall, precision, c='blue')\n",
                "    plt.plot(recall, precision, label=\"Accuray:%.2f, AUC:%.2f\" % (acc, p_auc), linewidth=2, c='red')\n",
                "    plt.hlines(0.5,0.0,1.0, linestyle='dashed', colors=['orange'])\n",
                "    plt.xlabel(\"Recall (Sensitivity)\")\n",
                "    plt.ylabel(\"Precision\")\n",
                "    plt.title('Precision Recall Curve')\n",
                "    plt.legend(loc='best');\n"
            ]
        },
        {
            "cell_type": "markdown",
            "id": "3d8c0e33",
            "metadata": {},
            "source": [
                "Precision-recall curve  does not show a \"standard\" shape of a Precision-recall  curve when using an imbalanced dataset. Notice that AUC in the precison recall curve is around 50% and whereas AUC in the ROC curve is around 90%. This shows that the ROC curves sometimes give optimistic results hence it may be better to use precision recall curves as well in case of imbalanced datasets.\n"
            ]
        },
        {
            "cell_type": "markdown",
            "id": "f787d717",
            "metadata": {},
            "source": [
                "## task 2:\n",
                "\n",
                "You have to extend the cell below to train a logistic regression model on breast_cancer dataset.  \n",
                "\n",
                "In the code marked with \"TODO\" to \n",
                "1. Calculate Precsion, Recall and f1-score using yhat\n",
                "2. Plot the  ROC curve using yhat_prob and calculate area under the curve (AUC) \n",
                "3. Precsion-Recall curve using yhat_prob area under the curve (Average Precision)\n",
                "\n",
                "\n",
                "\n"
            ]
        },
        {
            "cell_type": "code",
            "execution_count": 24,
            "id": "92c3365f",
            "metadata": {},
            "outputs": [],
            "source": [
                "from sklearn.datasets import load_breast_cancer\n",
                "from sklearn.model_selection import train_test_split\n",
                "from sklearn.linear_model import LogisticRegression\n",
                "from sklearn import metrics\n",
                "\n",
                "# Load dataset\n",
                "data=load_breast_cancer()\n",
                "X=data.data\n",
                "y=data.target\n",
                "\n",
                "# Split the data set to test and tarin sets\n",
                "X_train,X_test,y_train,y_test=train_test_split(X,y)\n",
                "\n",
                "# Train logistic regression model\n",
                "LR=LogisticRegression()\n",
                "LR.fit(X_train,y_train)\n",
                "\n",
                "\n",
                "yhat=LR.predict(X_test)\n",
                "\n",
                "yhat_prob=LR.predict_proba(X_test)\n",
                "\n",
                "# TODO ..\n",
                "# 1) Calculate Precsion, Recall and f1-score using yhat\n",
                "# 2) Plot the  ROC curve , caclulate AUC\n",
                "# 3) Precsion-Recall curve, Calculate  Average precision \n",
                "\n",
                "\n"
            ]
        },
        {
            "cell_type": "markdown",
            "id": "fccac355",
            "metadata": {},
            "source": [
                "## Solution:\n"
            ]
        },
        {
            "cell_type": "code",
            "execution_count": 25,
            "id": "294fbccb",
            "metadata": {},
            "outputs": [],
            "source": [
                "# Copy paste your gaze code here\n"
            ]
        },
        {
            "cell_type": "code",
            "execution_count": 26,
            "id": "e1f503ce",
            "metadata": {},
            "outputs": [
                {
                    "name": "stdout",
                    "output_type": "stream",
                    "text": [
                        "Precision                                   : 0.971\n",
                        "Recall                                      : 0.971\n",
                        "F1-Score                                    : 0.971\n",
                        "\n",
                        "Precision Recall F1-Score Support Per Class : \n",
                        " (array([0.93, 0.97]), array([0.93, 0.97]), array([0.93, 0.97]), array([ 41, 102]))\n",
                        "\n",
                        "Classification Report                       : \n",
                        "              precision    recall  f1-score   support\n",
                        "\n",
                        "           0       0.93      0.93      0.93        41\n",
                        "           1       0.97      0.97      0.97       102\n",
                        "\n",
                        "    accuracy                           0.96       143\n",
                        "   macro avg       0.95      0.95      0.95       143\n",
                        "weighted avg       0.96      0.96      0.96       143\n",
                        "\n"
                    ]
                }
            ],
            "source": [
                "# Copy paste your gaze code here\n"
            ]
        },
        {
            "cell_type": "code",
            "execution_count": 27,
            "id": "5986b000",
            "metadata": {},
            "outputs": [
                {
                    "data": {
                        "image/png": "[encoded data removed]",
                        "text/plain": [
                            "<Figure size 576x432 with 1 Axes>"
                        ]
                    },
                    "metadata": {},
                    "output_type": "display_data"
                }
            ],
            "source": [
                "# Copy paste your gaze code here\n"
            ]
        },
        {
            "cell_type": "code",
            "execution_count": 28,
            "id": "6e1ffc2b",
            "metadata": {},
            "outputs": [
                {
                    "data": {
                        "image/png": "[encoded data removed]",
                        "text/plain": [
                            "<Figure size 576x432 with 1 Axes>"
                        ]
                    },
                    "metadata": {},
                    "output_type": "display_data"
                }
            ],
            "source": [
                "# Copy paste your gaze code here\n"
            ]
        }
    ],
    "metadata": {
        "kernelspec": {
            "display_name": "Python 3 (ipykernel)",
            "language": "python",
            "name": "python3"
        },
        "language_info": {
            "codemirror_mode": {
                "name": "ipython",
                "version": 3
            },
            "file_extension": ".py",
            "mimetype": "text/x-python",
            "name": "python",
            "nbconvert_exporter": "python",
            "pygments_lexer": "ipython3",
            "version": "3.9.5"
        }
    },
    "nbformat": 4,
    "nbformat_minor": 5
}