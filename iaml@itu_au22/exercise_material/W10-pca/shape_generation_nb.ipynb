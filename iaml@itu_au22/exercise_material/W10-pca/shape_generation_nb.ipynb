{
 "cells": [
  {
   "cell_type": "markdown",
   "id": "86c41c33",
   "metadata": {},
   "source": [
    "# <i class=\"fas fa-circle\" style=\"color: #d9534f;\"></i> PCA for shape generation\n",
    "In this mandatory exercise you will use PCA to generate face shapes. The goal is to have you explore the relation between points in latent space and real space (which in this instance is faces). \n",
    "\n",
    "```{warning}\n",
    "Please read the introduction to PCA in exercise 10.1 carefully and solve the exercises before attempting to solve this assignment.\n",
    "```\n",
    "\n",
    "\n",
    "```{note}\n",
    "<i class=\"fas fa-keyboard\" style=\"color: #d9534f;\"></i> markers indicate where you should write your answers to each question. All enumerated tasks (tasks with preceeding letters) has an answer field if it requires answers in prose.\n",
    "```\n",
    "\n",
    "The exercise is subdivided into the following two sections:\n",
    "\n",
    "- <i class=\"fas fa-exclamation-circle\" style=\"color: #d9534f;\"></i> {ref}`pca:gen` (questions A-J)\n",
    "- <i class=\"fas fa-exclamation-circle\" style=\"color: #d9534f;\"></i> {ref}`pca:reflect` (questions A-B)"
   ]
  },
  {
   "cell_type": "code",
   "execution_count": null,
   "id": "48d70ad2",
   "metadata": {},
   "outputs": [],
   "source": [
    "import matplotlib.pyplot as plt\n",
    "import numpy as np\n",
    "import scipy\n",
    "import cv2 as cv\n",
    "\n",
    "import os\n",
    "from glob import glob\n",
    "\n",
    "from utils import *"
   ]
  },
  {
   "cell_type": "markdown",
   "id": "554b3e8a",
   "metadata": {},
   "source": [
    "## PCA implementation\n",
    "Copy your PCA implementation into the following cell:"
   ]
  },
  {
   "cell_type": "code",
   "execution_count": null,
   "id": "913956da",
   "metadata": {},
   "outputs": [],
   "source": [
    "# Copy your PCA implementation to here."
   ]
  },
  {
   "cell_type": "markdown",
   "id": "7aed31e5",
   "metadata": {
    "tags": []
   },
   "source": [
    "(pca:gen)=\n",
    "## <i class=\"fas fa-exclamation-circle\" style=\"color: #d9534f;\"></i> Using PCA for shape generation\n",
    "\n",
    "As shown in the lecture, PCA can be used as a generative process, where\n",
    "new samples are generated. Generating a new face $x$ can be done by using $x = \\Phi_{:k} y + \\mu$, where $\\Phi$ is the matrix of eigenvectors and $y$ is a vector in latent space.\n",
    "\n",
    "We start at $y=\\mathbf{0}$. The variance in each direction can be used to define reasonable boundary values for each principal component. Since $y$ is in latent space, we need to calculate the variance of our transformed data. For each feature space dimension, a range of $[-3\\sigma_i, 3\\sigma_i]$ is used where $\\sigma_i = \\sqrt{Var(y_i)}$. Assuming the faces are normally distributed, $\\pm 3\\sigma$ covers $99.7\\%$ of all points. This is shown in {numref}`fig:normal`. \n",
    "\n",
    "```{figure} ./img/normal.png\n",
    "---\n",
    "name: fig:normal\n",
    "width: 400px\n",
    "---\n",
    "Illustration of a normal distribution. The shaded regions indicate the\n",
    "area of the distribution covered by 1, 2, 3, and 4, standard deviations\n",
    "($\\sigma$) respectively.\n",
    "```\n",
    "\n",
    "\n",
    "\n",
    "A): <i class=\"fas fa-code\"></i> **Get principal components:** Repeat what you did in the last exercise and compute the principal components $\\Phi$ for the face dataset."
   ]
  },
  {
   "cell_type": "code",
   "execution_count": null,
   "id": "cbdebbdd",
   "metadata": {},
   "outputs": [],
   "source": [
    "# Implementation for A)\n",
    "# Get the principal components for the dataset and transform the faces to feature space."
   ]
  },
  {
   "cell_type": "markdown",
   "id": "e36ab491",
   "metadata": {},
   "source": [
    "B): \n",
    "- <i class=\"fas fa-code\"></i> **Generate vectors:** Create a zero vector with $5$ dimensions, i.e. $y = [0, 0, \\dots, 0]$. This will be your starting point. \n",
    "- <i class=\"fas fa-code\"></i> **Shape generation:** Use $x = \\Phi_{:5} y + \\mu$ to generate a vector in real space from the zero vector (you may reuse the implementation from the exercise). Use the provided utility function `plot_face` to visualise the generated face as a plot."
   ]
  },
  {
   "cell_type": "code",
   "execution_count": null,
   "id": "b5022ba0",
   "metadata": {},
   "outputs": [],
   "source": [
    "# Implementation for B)\n",
    "# std = transformed.std(axis=1)"
   ]
  },
  {
   "cell_type": "markdown",
   "id": "7714b689",
   "metadata": {},
   "source": [
    "C): <i class=\"fas fa-pen\"></i> **Base face:** Describe what the face generated using the zero vector represents and why this is the case. You should be able to deduce why from your knowledge about PCA.\n",
    "\n",
    "**<i class=\"fas fa-keyboard\" style=\"color: #d9534f;\"></i> Answer**\n",
    "\n",
    "..."
   ]
  },
  {
   "cell_type": "markdown",
   "id": "7e1779ba",
   "metadata": {},
   "source": [
    "D): \n",
    "- <i class=\"fas fa-code\"></i> **Varying components:** Start experimenting with changing the vector component values and watch the effect it has on the output.\n",
    "- <i class=\"fas fa-code\"></i> **Component controls:** Interpolate 5 values in the range $[-3\\sigma_1, 3\\sigma_1]$ for the first component $y_1$, generate the faces and visualise them."
   ]
  },
  {
   "cell_type": "code",
   "execution_count": null,
   "id": "096d2589",
   "metadata": {},
   "outputs": [],
   "source": [
    "# Implementation for C)\n",
    "vectors[:, :5]\n",
    "\n",
    "# Write your solution here"
   ]
  },
  {
   "cell_type": "markdown",
   "id": "6b5cb2b1",
   "metadata": {},
   "source": [
    "E): {{ task-writing }} **More components:** Do the same for each of the next four components, i.e. $b_2$-$b_5$. Write down what each component changes in the image (for example, the first component may change the height of the face). \n",
    "\n",
    "**<i class=\"fas fa-keyboard\" style=\"color: #d9534f;\"></i> Answer**\n",
    "\n",
    "...\n",
    "\n",
    "F): {{ task-writing }} **Extreme values:** What happens if you select values outside the suggested range. Explain why this happens.\n",
    "\n",
    "**<i class=\"fas fa-keyboard\" style=\"color: #d9534f;\"></i> Answer**\n",
    "\n",
    "..."
   ]
  },
  {
   "cell_type": "markdown",
   "id": "537adcaa",
   "metadata": {},
   "source": [
    "G): <i class=\"fas fa-code\"></i> **Transform data:** For this task, use your $\\Phi_{:k}^\\top$ to transform the database faces into feature-space (using $x' = \\Phi_{:k}^\\top(x-\\mu)$)."
   ]
  },
  {
   "cell_type": "code",
   "execution_count": null,
   "id": "e980e011",
   "metadata": {},
   "outputs": [],
   "source": [
    "# Implementation for G)"
   ]
  },
  {
   "cell_type": "markdown",
   "id": "084eef68",
   "metadata": {},
   "source": [
    "H): <i class=\"fas fa-code\"></i> Plot the two first components in latent space using a scatterplot.\n",
    "- {{ task-writing }} What does this plot tell you about the distribution of faces?\n",
    "- {{ task-writing }} Experiment with showing different components. Describe how the plot changes.\n",
    "\n",
    "**<i class=\"fas fa-keyboard\" style=\"color: #d9534f;\"></i> Answer**\n",
    "\n",
    "..."
   ]
  },
  {
   "cell_type": "code",
   "execution_count": null,
   "id": "2f6ecf1e",
   "metadata": {},
   "outputs": [],
   "source": [
    "# Implementation for H)"
   ]
  },
  {
   "cell_type": "markdown",
   "id": "ccba2dde",
   "metadata": {},
   "source": [
    "I): <i class=\"fas fa-code\"></i> **Shape Interpolation:** Create two different faces by selecting two points in latent space. It doesn't matter how many components you use or set to non-zero values. Now you should `np.linspace` to interpolate between the two point. Use `num` to control the number of output values. Plot the resulting faces. Below is an example of how to interpolate two vectors."
   ]
  },
  {
   "cell_type": "code",
   "execution_count": null,
   "id": "f2fab05a",
   "metadata": {},
   "outputs": [],
   "source": [
    "d = np.linspace(np.array([1, 2]), np.array([3, 5]), num=5)\n",
    "plt.scatter(d[:, 0], d[:, 1])"
   ]
  },
  {
   "cell_type": "markdown",
   "id": "c94431db",
   "metadata": {},
   "source": [
    "J): {{ task-writing }} **Behaviour:** Assume a set of points on a line in latent space. Argue for why the same set of points, when mapped to real space using $x = \\Phi_{:k}y + \\mu$ also lie on a line.\n",
    "\n",
    "**<i class=\"fas fa-keyboard\" style=\"color: #d9534f;\"></i> Answer**\n",
    "\n",
    "..."
   ]
  },
  {
   "cell_type": "markdown",
   "id": "612e461b",
   "metadata": {},
   "source": [
    "(pca:reflect)=\n",
    "## <i class=\"fas fa-exclamation-circle\" style=\"color: #d9534f;\"></i> Reflection\n",
    "Describe and reflect on the results gathered from various parts of the exercises for week 10 (including the non-mandatory ones). Answer the following questions (and back up your arguments with results or theory)\n",
    "\n",
    "A): {{ task-writing }} What did you think of the results from the generative model? Explain why so few principal components are needed to reproduce the samples quite accurately.\n",
    "  \n",
    "**<i class=\"fas fa-keyboard\" style=\"color: #d9534f;\"></i> Answer**\n",
    "\n",
    "...\n",
    "\n",
    " \n",
    "B): {{ task-writing }} How many components do you need to have $50\\%$, $60\\%$, $80\\%$, $95\\%$ of the total variation?\n",
    "\n",
    "**<i class=\"fas fa-keyboard\" style=\"color: #d9534f;\"></i> Answer**\n",
    "\n",
    "..."
   ]
  }
 ],
 "metadata": {
  "kernelspec": {
   "display_name": "Python 3 (ipykernel)",
   "language": "python",
   "name": "python3"
  }
 },
 "nbformat": 4,
 "nbformat_minor": 5
}
