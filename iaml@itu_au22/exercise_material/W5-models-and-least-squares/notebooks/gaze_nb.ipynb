{
 "cells": [
  {
   "cell_type": "markdown",
   "id": "b8611099",
   "metadata": {
    "tags": []
   },
   "source": [
    "# <i class=\"fas fa-circle\" style=\"color: #d9534f;\"></i> Gaze estimation\n",
    "<span style=\"background-color: #d9534f; color: white; border-radius: 10px; padding-top: 2px; padding-bottom: 2px; padding-left: 6px;padding-right: 6px;\">mandatory</span> <span style=\"background-color: #343A40; color: white; border-radius: 10px; padding-top: 2px; padding-bottom: 2px; padding-left: 6px;padding-right: 6px;\">notebook</span>\n",
    "This is the first mandatory exercise which means you will have to hand in this Jupyter Notebook with your implementation and notes. This exercise is split into multiple parts which have to be submitted together. The submission deadline is available on LearnIT.\n",
    "\n",
    "## Tasks\n",
    "The following list is a summary of the tasks you need to complete to pass the exercise. Find the tasks in the exercise text with further instructions on what to do. \n",
    "\n",
    "<i class=\"fas fa-exclamation-circle\" style=\"color: #d9534f;\"></i> {ref}`gaze:viz` (**A-B**)\n",
    "\n",
    "<i class=\"fas fa-exclamation-circle\" style=\"color: #d9534f;\"></i> {ref}`gaze:implement` (**A-D**)\n",
    "\n",
    "<i class=\"fas fa-exclamation-circle\" style=\"color: #d9534f;\"></i> {ref}`gaze:evaluation` (**A-D**)\n",
    "\n",
    "<i class=\"fas fa-exclamation-circle\" style=\"color: #d9534f;\"></i> {ref}`gaze:improve` (**A-C**)\n",
    "\n",
    "\n",
    "\n",
    "## Overview\n",
    "\n",
    "In this exercise you will implement a regression model to estimate where a person is looking (this is known as *gaze*). Gaze estimation is performed by capturing images of a users eye as shown in FIG and mapping them to screen positions. Humans look at things by orienting their eyes so that the point of focus is directly in line with a point on their retinas known as the *fovea* (shown in {numref}`fig-model`). Therefore, the pupil position can be used to infer gaze. \n",
    "\n",
    "```{note}\n",
    "The *fovea* is located slightly differently from person to person ($\\pm$ 5 degrees) and as a consequence, a gaze model has to be retrained for every person using it. This difference is shown in {numref}`fig-kappa`.\n",
    "```\n",
    "\n",
    "\n",
    "```{figure} ../img/model.png\n",
    "---\n",
    "name: fig-model\n",
    "width: 350px\n",
    "---\n",
    "Diagram of a gaze estimation system. The eye, which is directed\n",
    "at a specific point on the screen is captured by the camera. The two red lines represent an unknown transformation from image to eye and eye to screen. We learn this transformation directly which is shown as $f_{\\theta}(x, y)$ in the diagram.\n",
    "```\n",
    "\n",
    "In this exercise, $f_{\\theta}(x, y)$ is the model mapping pupil positions in images (the $x$ and $y$ parameters) onto screen coordinates (the output of $f_{\\theta}$). The model is trained using a set of paired pupil and screen positions. This ground-truth dataset has been collected in advance by asking the participant to look at a specific point on a screen while capturing an eye image. We have detected the pupils for each image using ellipse approximation. \n",
    "\n",
    "The next section will introduce you to the dataset.\n",
    "\n",
    "```{figure} ../img/kappa.jpg\n",
    "---\n",
    "name: fig-kappa\n",
    "figclass: margin\n",
    "---\n",
    "Shows the distinction between the visual and optical axes. The optical axis is defined as an axis perpendicular to the lens behind the pupil. The visual axis is personally dependent and is determined by the placement of the *fovea*.\n",
    "```\n",
    "\n",
    "\n",
    "### About data\n",
    "\n",
    "The goal of this exercise is to estimate the gaze of image sequences using a regression model. Each image sequence contains 9 images for calibration and a varying number of images for inference. The calibration samples always represent the same 9 screen positions which form a simple 3 by 3 grid. An example of calibration images are shown in\n",
    "{numref}`fig-calibration`. For each sequence, you will use the 9\n",
    "calibration samples to train a regression model and then use the model\n",
    "to predict gaze positions for the rest of the images.\n",
    "\n",
    "```{figure} ../img/calibration.jpg\n",
    "---\n",
    "name: fig-calibration\n",
    "width: 60%\n",
    "---\n",
    "Calibration images. All image sequences contain 9 calibration images\n",
    "which all have equivalent gaze positions.\n",
    "```\n",
    "\n",
    "`positions.json` contains the ground-truth gaze positions for each image as an array\n",
    "(stored as $y, x$ for each point). The included image sequences (found\n",
    "in `inputs/images`) are divided into two groups:\n",
    "\n",
    "- **No head movement:** `pattern0`, `pattern1`, `pattern2`, `pattern3`\n",
    "\n",
    "- **Head movement and rotation:** `movement_medium`, `movement_hard`,\n",
    "\n",
    "You may want to focus on the ones without head movement for now."
   ]
  },
  {
   "cell_type": "code",
   "execution_count": null,
   "id": "50e8be21",
   "metadata": {
    "tags": [
     "remove-cell"
    ]
   },
   "outputs": [],
   "source": [
    "import os\n",
    "import sys\n",
    "import json\n",
    "import cv2 as cv\n",
    "import numpy as np\n",
    "import pandas as pd\n",
    "\n",
    "from dataclasses import dataclass\n",
    "from typing import Tuple, NamedTuple, List\n",
    "\n",
    "import matplotlib.pyplot as plt\n",
    "import seaborn as sns\n",
    "\n",
    "from ipywidgets import interact"
   ]
  },
  {
   "cell_type": "markdown",
   "id": "8626c9d6",
   "metadata": {},
   "source": [
    "```{note}\n",
    "The real notebook (the one in the materials repository or the one you can download from this page) contains some extra utility code that has been hidden here for brevity. The code is fully commented and we recommend you read it whenever you are in doubt about what is happening.\n",
    "```"
   ]
  },
  {
   "cell_type": "code",
   "execution_count": null,
   "id": "b91fbaaa",
   "metadata": {
    "tags": [
     "remove-cell"
    ]
   },
   "outputs": [],
   "source": [
    "def load_json(folder, filename):\n",
    "    \"\"\"Load json file from subdirectory in \"inputs/images\" with the given filename\n",
    "    - without .json extension!\n",
    "\n",
    "    Returns: The json data as a dictionary or array (depending on the file).\n",
    "    \"\"\"\n",
    "    with open(os.path.join(os.path.abspath('../inputs/images/' + folder), f'{filename}.json')) as file:\n",
    "        data = json.load(file)\n",
    "        return data\n",
    "\n",
    "def create_pupil_dataframe(data):\n",
    "    df = pd.DataFrame(data)\n",
    "    df.index.name = 'idx'\n",
    "    return df\n",
    "\n",
    "def create_glint_dataframe(data):\n",
    "    rows = [[{'idx': idx, 'num': idx2, 'x': x, 'y': y} for idx2, (x, y) in enumerate(row)] for idx, row in enumerate(data)]\n",
    "    rows = np.concatenate(rows)\n",
    "    df = pd.DataFrame.from_records(rows)\n",
    "    return df\n",
    "\n",
    "def create_pos_dataframe(data):\n",
    "    rows = [{'idx': idx, 'x': x, 'y': y} for idx, (x, y) in enumerate(data)]\n",
    "    df = pd.DataFrame.from_records(rows, index='idx')\n",
    "    return df\n",
    "\n",
    "def dist(a, b):\n",
    "    return np.linalg.norm(a - b)\n",
    "\n",
    "def center_crop(img, size):\n",
    "    width, height = size\n",
    "    i_height, i_width = img.shape[:2]\n",
    "\n",
    "    dy = (i_height-height)//2\n",
    "    dx = (i_width-width)//2\n",
    "\n",
    "    return img[dy: i_height-dy, dx: i_width-dx]"
   ]
  },
  {
   "cell_type": "code",
   "execution_count": null,
   "id": "62707185",
   "metadata": {
    "tags": [
     "remove-cell"
    ]
   },
   "outputs": [],
   "source": [
    "def open_img(path, idx):\n",
    "    \"\"\"Open a single image from the provided path. The index specifies the image name.\"\"\"\n",
    "    img = cv.imread(path + f'/{idx}.jpg')\n",
    "    if img is None:\n",
    "        raise IOError(\"Could not read image\")\n",
    "    return img\n",
    "\n",
    "def draw_features(img, feature):\n",
    "    \"\"\"Helper for drawing pupil and glints onto an image.\"\"\"\n",
    "    frame = img.copy()\n",
    "    feature.pupil.draw(frame, color=(0, 0, 255), thickness=5)\n",
    "    feature.glints.draw(frame, color=(0, 255, 0), thickness=3, size=20)\n",
    "    return frame\n",
    "\n",
    "def load_dataset(folder):\n",
    "    \"\"\"Load all images and screen positions for a valid data folder (any folder in \"inputs/images\").\"\"\"\n",
    "    path = os.path.abspath('../inputs/images/' + folder)\n",
    "\n",
    "    positions = np.array(load_json(path, 'positions'))\n",
    "    images = [open_img(path, i) for i in range(len(positions)-1)]\n",
    "\n",
    "    return list(map(lambda x: Sample(*x), zip(images, positions)))\n",
    "\n",
    "def predict_features(dataset):\n",
    "    \"\"\"Predict eye image features for all images in `dataset`. The dataset is a list of Sample instances.\"\"\"\n",
    "    res = []\n",
    "    for sample in dataset:\n",
    "        pupil = find_pupil(sample.image)\n",
    "        glints = find_glints(sample.image, pupil.center)\n",
    "        res.append(FeatureDescriptor(pupil, glints))\n",
    "    return res\n",
    "\n",
    "def show_example_features(images, pupils):\n",
    "    \"\"\"Draw a grid of images with the predicted pupils drawn on top.\"\"\"\n",
    "    n = len(images)\n",
    "    cols = 8\n",
    "    rows = n//8+1\n",
    "\n",
    "    fig, ax = plt.subplots(rows, cols, figsize=(cols*2, rows*2))\n",
    "    for i, d in enumerate(images):\n",
    "        img = d.copy()\n",
    "        row = pupils.iloc[i]\n",
    "        img = cv.ellipse(img, (int(row['cx']), int(row['cy'])), (int(row['ax']/2), int(row['ay']/2)), row['angle'], 0, 360, (255, 0, 0), 5)\n",
    "        ax[i//cols, i%cols].imshow(center_crop(img, (250, 250)))\n",
    "    for row in ax:\n",
    "        for a in row:\n",
    "            a.get_xaxis().set_visible(False)\n",
    "            a.get_yaxis().set_visible(False)\n",
    "    plt.show()"
   ]
  },
  {
   "cell_type": "markdown",
   "id": "3249ad58",
   "metadata": {},
   "source": [
    "(gaze:viz)=\n",
    "## <i class=\"fas fa-exclamation-circle mandatory\"></i> Data and visualization\n",
    "First you will familiarise yourself with the problem domain and data sources by doing a number of visualisations. \n",
    "\n",
    "The code below loads all the datasets specified in `inputs` and predicts features for each image. The `show_example_features` function then plots a grid of all the images from one of the datasets. \n",
    "\n",
    "**A): <i class=\"fas fa-code\"></i>** Test the visualisation for different datasets (by changing the array index when accessing images, positions, or pupils)."
   ]
  },
  {
   "cell_type": "code",
   "execution_count": null,
   "id": "16c0c035",
   "metadata": {},
   "outputs": [],
   "source": [
    "# Enter dataset folder name here (any subfolder in inputs/images will do)\n",
    "dataset_folders = ['pattern0', 'pattern1', 'pattern2', 'moving_medium', 'moving_hard']\n",
    "\n",
    "# Load detected pupil features\n",
    "pupils = [create_pupil_dataframe(load_json(f, 'pupils')) for f in dataset_folders]\n",
    "# Load screen gaze positions\n",
    "positions = [create_pos_dataframe(load_json(f, 'positions')) for f in dataset_folders]\n",
    "# Load eye images\n",
    "images = [[open_img(os.path.abspath('../inputs/images/' + f), i) for i in range(len(p)-1)] for p, f in zip(positions, dataset_folders)]"
   ]
  },
  {
   "cell_type": "code",
   "execution_count": null,
   "id": "8bf01e16",
   "metadata": {},
   "outputs": [],
   "source": [
    "# Create train and test splits\n",
    "pupils_train = [df.iloc[:9] for df in pupils]\n",
    "pupils_test = [df.iloc[9:] for df in pupils]\n",
    "positions_train = [df.iloc[:9] for df in positions]\n",
    "positions_test = [df.iloc[9:] for df in positions]\n",
    "images_train = [li[:9] for li in images]\n",
    "images_test = [li[9:] for li in images]"
   ]
  },
  {
   "cell_type": "markdown",
   "id": "7a09463b",
   "metadata": {},
   "source": [
    "```{admonition} Details about the data format\n",
    ":class: tip, dropdown\n",
    "The dataframes each contain a number of columns. Here's a description of what data each column contains.\n",
    "\n",
    "**Pupil dataframes:**\n",
    "| Name | Meaning |\n",
    "| ---- | ------- |\n",
    "| `cx` | Center $x$-coordinate |\n",
    "| `cy` | Center $y$-coordinate |\n",
    "| `ax` | Radius 1 |\n",
    "| `ay` | Radius 2 |\n",
    "| `angle` | Angle |\n",
    "\n",
    "**Position dataframes**\n",
    "| Name | Meaning |\n",
    "| ---- | ------- |\n",
    "| `x` | $x$-coordinate |\n",
    "| `y` | $y$-coordinate |\n",
    "```"
   ]
  },
  {
   "cell_type": "code",
   "execution_count": null,
   "id": "4a0010c3",
   "metadata": {},
   "outputs": [],
   "source": [
    "show_example_features(images_train[0], pupils_train[0])"
   ]
  },
  {
   "cell_type": "markdown",
   "id": "58a6fac0",
   "metadata": {},
   "source": [
    "Lets visualize the recorded screen gaze positions. The subject was instructed to look at a red dot on a specific point on a screen while the camera captured each image. We provide the visualisation code for this part:"
   ]
  },
  {
   "cell_type": "code",
   "execution_count": null,
   "id": "7fcc0802",
   "metadata": {},
   "outputs": [],
   "source": [
    "sns.scatterplot(x='x', y='y', data=positions_test[0]);"
   ]
  },
  {
   "cell_type": "markdown",
   "id": "94679cae",
   "metadata": {},
   "source": [
    "**B): <i class=\"fas fa-code\"></i>** Test the visualisation for different datasets (by changing the array index when accessing images, positions, or pupils). Do the same but for the detected pupil positions. We provide the `DataFrame` object for each so you should be able to simply modify the example above."
   ]
  },
  {
   "cell_type": "code",
   "execution_count": null,
   "id": "6a600e16",
   "metadata": {},
   "outputs": [],
   "source": [
    "pupils[0].head()\n",
    "# Write the plotting code here (using Seaborn is easier, but feel free to use Matplotlib as well)"
   ]
  },
  {
   "cell_type": "markdown",
   "id": "2f5032c8",
   "metadata": {
    "tags": []
   },
   "source": [
    "(gaze:implement)=\n",
    "## <i class=\"fas fa-exclamation-circle mandatory\"></i> Implement a gaze estimation model\n",
    "\n",
    "```{figure} ../img/gaze2.jpg\n",
    "---\n",
    "name: fig-gaze\n",
    "figclass: margin\n",
    "---\n",
    "Calibration images. All image sequences contain 9 calibration images\n",
    "which all have equivalent gaze\n",
    "positions.\n",
    "```\n",
    "\n",
    "The mapping function $f_\\theta(x, y)$ as shown in\n",
    "{doc}`../main` is unknown. Because the pupil moves in a spherical curve (this is only true when the head is fixed), the relationship between pupil position in the image and gaze is non-linear. In this exercise, however, you will approximate the gaze mapping by a linear function. Because the function has two outputs, it is easier to train one model for each coordinate. You do this as in the exercises but with one model for the $x$ coordinate and one for the $y$\n",
    "coordinate. To get the screen coordinates $x'$, $y'$ we have\n",
    "\n",
    "$$\n",
    "\\begin{aligned}\n",
    "x' &= ax + by + c\\\\\n",
    "y' &= dx + ey + f\n",
    " \\end{aligned}\n",
    "$$\n",
    "\n",
    "**A): <i class=\"fas fa-pen\"></i>** **Construct the design matrix:** Write design matrices for both equations above. Use the previous exercises as a guideline. Answer the following:\n",
    "- What are the knowns and unknowns in the equations?\n",
    "- How many parameters does the model have?\n",
    "- How many points (pupil to gaze point correspondances) do we need to solve the equations?\n",
    "- What effect does the number of points used have on the solution?\n",
    "\n",
    "The principle is demonstrated in {numref}`fig-gaze` to the right. Here, the $x$ coordinate of the pupil maps to the $x$ coordinate on the screen. In the real model, we use both $x$ and $y$ as inputs to both the model estimating the $x$ position on the screen and the model estimating the $y$ position.\n",
    "\n",
    "**B): <i class=\"fas fa-code\"></i>** **Implement the design matrix:** Implement a function for generating a design matrix from pupil positions.\n",
    "\n",
    "**C): <i class=\"fas fa-code\"></i>** **Calibration:** Learn the parameters $\\theta$ for the linear regression using the `pupils_train` and `positions_train` lists (remember to select one of the datasets in the lists). Create a design matrix from the pupil positions. Use *two* linear models, as described above, one to learn the X-coordinates and one to learn the Y-coordinates. \n",
    "\n",
    "```{note}\n",
    "This is possibly the most difficult part of the exercise. Try to use what you learned in the two non-mandatory exercises and apply it here. Remember that you need to fit two separate models, one for each screen coordinate.\n",
    "```\n",
    "\n",
    "**D): <i class=\"fas fa-code\"></i>** **Estimation:** Implement a function which predicts the gaze point given a pupil position using the learned models. For reference, the linear model has the form $f(x; \\theta)=\\theta_0 x_0 + \\theta_1 x_1 + \\theta_2$. You may calculate the point for each coordinate seperately. Then calculate and return the estimated screen coordinates using the models created during calibration."
   ]
  },
  {
   "cell_type": "code",
   "execution_count": null,
   "id": "6d01f9f5",
   "metadata": {
    "tags": [
     "remove-cell"
    ]
   },
   "outputs": [],
   "source": [
    "# You may use this cell for your implementation."
   ]
  },
  {
   "cell_type": "markdown",
   "id": "3dc53ce3",
   "metadata": {},
   "source": [
    "(gaze:evaluation)=\n",
    "## <i class=\"fas fa-exclamation-circle mandatory\"></i> Evaluation of the regression model"
   ]
  },
  {
   "cell_type": "code",
   "execution_count": null,
   "id": "43a3f0db",
   "metadata": {},
   "outputs": [],
   "source": []
  },
  {
   "cell_type": "code",
   "execution_count": null,
   "id": "9d563118",
   "metadata": {},
   "outputs": [],
   "source": []
  },
  {
   "cell_type": "markdown",
   "id": "57cd5337",
   "metadata": {
    "tags": []
   },
   "source": [
    "**A): <i class=\"fas fa-code\"></i>** **Calculate errors:** For each dataset, predict gaze positions and calculate the *mean squarred error* between the true values in `positions_test` and the predictions (one MSE for each coordinate). Additionally:\n",
    "- Calculate the square root of the *mse* for each dataset.\n",
    "\n",
    "**B): <i class=\"fas fa-code\"></i>** **Calculate distance errors:**\n",
    "- Calculate the euclidean distance between each predicted point and ground truth screen position. \n",
    "- Calculate the mean and variance of the distance error for each dataset. \n",
    "- Calculate the distance error for $x$ and $y$ seperately (this is just the absolute value of the error). Then calculate the correlation for the $x$ and $y$ errors for each dataset.\n",
    "- <i class=\"fas fa-pen\"></i> What does the correlation tell you of the error for each coordinate?\n",
    "- Visualise the results using a suitable choice of plots (only include plots you think show something valuable about the results).\n",
    "- <i class=\"fas fa-pen\"></i> Explain why the distance metric is useful for this particular model.\n",
    "\n",
    "**C): <i class=\"fas fa-pen\"></i>** **Evaluate:**\n",
    "- How does the model perform? Use both metrics and your visualisations to evaluate the performance.\n",
    "- Explain your results in the notebook. Don't just save them in variables. \n",
    "- Explain any significant differences between the results for each dataset? \n",
    "- What would happen if you used the same corresponding points (i.e. dataset) for both training and testing?\n",
    "\n",
    "**D): <i class=\"fas fa-code\"></i>** **Create visualizations:** Create scatterplots similar to the ones shown earlier in the exercise, but with both ground truth `positions` and predictions. Answer the following:\n",
    "- <i class=\"fas fa-pen\"></i> Is the linear model a suitable model for this problem? Why/why not? \n",
    "- <i class=\"fas fa-pen\"></i> What is the quality of the pupil input points? Are they accurate? What effect does their accuracy have on the final error?\n",
    "\n",
    "\n",
    "(gaze:improve)=\n",
    "## <i class=\"fas fa-exclamation-circle mandatory\"></i> Improve the model\n",
    "Hopefully, you have observed by now that the linear model is not entirely adequate to capture the movement of the pupil. You should understand why this is the case.\n",
    "\n",
    "This final part of the exercise requires you to modify your linear model into a quadratic model. You have tried this before in one dimension, but here we have two. As before, you will still create one model for each output dimension.\n",
    "\n",
    "```{note}\n",
    "It is perfectly possible to create a single model that captures all inputs and outputs. However, we leave it as an optional extra exercise for you to figure out how to do this. Hint: You have to combine the design and parameter matrices in some way for this to work.\n",
    "```\n",
    "\n",
    "Since the model is two-dimensional, the quadratic polynomial has a few more factors than for one dimension. The equation for each axis is:\n",
    "\n",
    "$$\n",
    "f(x, y) = a\\cdot x^2 + b\\cdot y^2 + c\\cdot xy + d\\cdot x + e\\cdot y + f.\n",
    "$$\n",
    "\n",
    "The design matrices then have the following form:\n",
    "\n",
    "$$\n",
    "D_x = D_y = \\begin{bmatrix}\n",
    " \t\tx_1^2 & y_1^2 & x_1y_1 & x_1 & y_1 & 1\\\\\n",
    "  \t\tx_2^2 & y_2^2 & x_2y_2 & x_2 & y_2 & 1\\\\\n",
    "  \t\t\\vdots &&&&& \\\\\n",
    "   \t\tx_2^2 & y_2^2 & x_ny_n & x_n & y_n & 1\\\\\n",
    " \t\\end{bmatrix}.\n",
    "$$(dmat)\n",
    "\n",
    "\n",
    "**A): <i class=\"fas fa-code\"></i>** **Implement model:** Create a new calibration and prediction method that uses quadratic models.\n",
    "\n",
    "**B): <i class=\"fas fa-code\"></i>** **Evaluate:** Calculate the *rmse* and distance errors as before and compare the two. Visualise errors like you did for the linear model.\n",
    "\n",
    "**C):** **Compare with linear results:**\n",
    "- {{ task-impl }} Repeat the evaluation steps for the linear model, i.e. calculate the same metrics and plots. Try to combine the plots for both models to make comparisons easier.\n",
    "- <i class=\"fas fa-pen\"></i> Use distance means and variance to compare the performance of the linear and quadratic models.\n",
    "- <i class=\"fas fa-pen\"></i> Which model is best in certain situations and why? Relate this to your knowledge of the problem domain (gaze estimation) and the general problem of choosing model complexity."
   ]
  },
  {
   "cell_type": "code",
   "execution_count": null,
   "id": "4dcaa3ac",
   "metadata": {},
   "outputs": [],
   "source": []
  },
  {
   "cell_type": "code",
   "execution_count": null,
   "id": "27a7571b",
   "metadata": {
    "tags": [
     "remove-cell"
    ]
   },
   "outputs": [],
   "source": []
  },
  {
   "cell_type": "code",
   "execution_count": null,
   "id": "14e57fca",
   "metadata": {},
   "outputs": [],
   "source": []
  }
 ],
 "metadata": {
  "kernelspec": {
   "display_name": "Python 3 (ipykernel)",
   "language": "python",
   "name": "python3"
  }
 },
 "nbformat": 4,
 "nbformat_minor": 5
}
