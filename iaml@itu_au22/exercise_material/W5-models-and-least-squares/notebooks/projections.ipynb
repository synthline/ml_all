{
    "cells": [
        {
            "cell_type": "code",
            "execution_count": 1,
            "id": "tight-canada",
            "metadata": {
                "execution": {
                    "iopub.execute_input": "2021-03-13T11:28:10.450397Z",
                    "iopub.status.busy": "2021-03-13T11:28:10.449909Z",
                    "iopub.status.idle": "2021-03-13T11:28:10.939010Z",
                    "shell.execute_reply": "2021-03-13T11:28:10.939587Z"
                }
            },
            "outputs": [],
            "source": [
                "import numpy as np\n",
                "import pandas as pd\n",
                "\n",
                "import matplotlib.pyplot as plt\n",
                "from mpl_toolkits.mplot3d import Axes3D\n"
            ]
        },
        {
            "cell_type": "markdown",
            "id": "occupational-adrian",
            "metadata": {},
            "source": [
                "# <i class=\"fas fa-circle\" style=\"color: #f0ad4e;\"></i> Introduction to projections and least squares \n",
                "<span style=\"background-color: #f0ad4e; color: white; border-radius: 10px; padding-top: 2px; padding-bottom: 2px; padding-left: 6px;padding-right: 6px;\">exercise</span><span style=\"background-color: #343A40; color: white; border-radius: 10px; padding-top: 2px; padding-bottom: 2px; padding-left: 6px;padding-right: 6px;\">notebook</span>\n",
                "\n",
                "This exercise guides you through the basics of linear projections and how they can be used for a simple but widespread machine learning technique: least squares. The focus of this section is to show you the basics. A more practical approach that is useful in practice is shown in the next part.\n",
                "\n",
                "## Projections\n",
                "Remember from the book that a projection is a transformation that maps vectors onto a subspace in such a manner that the distances between original and projected points are minimised. \n",
                "\n",
                "Let's look at an example to make it more tangible. We start by defining a set of points $x_1, \\dots, x_n$ (`points` in the code) and a line $U$ (defined as $y=0.5x$) that we want to project the points onto:\n"
            ]
        },
        {
            "cell_type": "markdown",
            "id": "ab3869fb",
            "metadata": {},
            "source": []
        },
        {
            "cell_type": "code",
            "execution_count": 58,
            "id": "classified-danish",
            "metadata": {
                "execution": {
                    "iopub.execute_input": "2021-03-13T11:28:10.962119Z",
                    "iopub.status.busy": "2021-03-13T11:28:10.961493Z",
                    "iopub.status.idle": "2021-03-13T11:28:11.098587Z",
                    "shell.execute_reply": "2021-03-13T11:28:11.099275Z"
                }
            },
            "outputs": [
                {
                    "data": {
                        "text/plain": [
                            "[<matplotlib.lines.Line2D at 0x7fb16cc2e820>]"
                        ]
                    },
                    "execution_count": 58,
                    "metadata": {},
                    "output_type": "execute_result"
                },
                {
                    "data": {
                        "image/png": "[encoded data removed]",
                        "text/plain": [
                            "<Figure size 432x288 with 1 Axes>"
                        ]
                    },
                    "metadata": {
                        "needs_background": "light"
                    },
                    "output_type": "display_data"
                }
            ],
            "source": [
                "# Three points\n",
                "points = np.array([\n",
                "    [1, 2],\n",
                "    [2, 1.5],\n",
                "    [3, 1.2]\n",
                "])\n",
                "\n",
                "# Show plot\n",
                "plt.scatter(points[:, 0], points[:, 1])\n",
                "\n",
                "# Make line points (remember Numpy broadcasting)\n",
                "x = np.linspace(0, 4)\n",
                "y = x*0.5\n",
                "\n",
                "# Plot line\n",
                "plt.plot(x, y)\n"
            ]
        },
        {
            "cell_type": "markdown",
            "id": "beginning-longer",
            "metadata": {},
            "source": [
                "In this situation, projecting the points onto $U$ is done by multiplying by the projection matrix $P$, i.e. $\\hat{x}_i = Px_i$. The resulting points $\\hat{x}_i$ should then be \"on\" the line $U$. Let's try to accomplish exactly this by implementing the procedure in code.\n",
                "\n",
                "First, we need to determine the projection matrix $P$ using the formula from the book:\n",
                "$$\n",
                "\\begin{align}\n",
                "P = A(A^TA)^{-1}A^T\n",
                "\\end{align}\n",
                "$$\n",
                "\n",
                "In our case we want the line $U$ to be represented as the matrix $A$. From $y=0.5x$ we get the matrix $U = [1, 0.5]$. The projection matrix is then easy to calculate:\n"
            ]
        },
        {
            "cell_type": "code",
            "execution_count": 99,
            "id": "historical-northwest",
            "metadata": {
                "execution": {
                    "iopub.execute_input": "2021-03-13T11:28:11.103495Z",
                    "iopub.status.busy": "2021-03-13T11:28:11.102920Z",
                    "iopub.status.idle": "2021-03-13T11:28:11.105072Z",
                    "shell.execute_reply": "2021-03-13T11:28:11.105670Z"
                }
            },
            "outputs": [],
            "source": [
                "U = np.array([[2, 1]]).T # U has to be a column vector\n",
                "P = U.dot(np.linalg.inv((U.T.dot(U))).dot(U.T))\n"
            ]
        },
        {
            "cell_type": "markdown",
            "id": "outdoor-timber",
            "metadata": {},
            "source": [
                "We now perform the projection itself ($\\hat{x}_i = Px_i$):\n"
            ]
        },
        {
            "cell_type": "code",
            "execution_count": 100,
            "id": "failing-seating",
            "metadata": {
                "execution": {
                    "iopub.execute_input": "2021-03-13T11:28:11.109952Z",
                    "iopub.status.busy": "2021-03-13T11:28:11.109271Z",
                    "iopub.status.idle": "2021-03-13T11:28:11.112032Z",
                    "shell.execute_reply": "2021-03-13T11:28:11.112695Z"
                }
            },
            "outputs": [
                {
                    "data": {
                        "text/plain": [
                            "array([[1.6 , 2.2 , 2.88],\n",
                            "       [0.8 , 1.1 , 1.44]])"
                        ]
                    },
                    "execution_count": 100,
                    "metadata": {},
                    "output_type": "execute_result"
                }
            ],
            "source": [
                "x_hat = P.dot(points.T)\n",
                "x_hat\n"
            ]
        },
        {
            "cell_type": "markdown",
            "id": "breathing-judgment",
            "metadata": {},
            "source": [
                "Now, we want to *see* whether this actually worked or not. To do this, we plot the projected points as well as the old points and line:\n"
            ]
        },
        {
            "cell_type": "code",
            "execution_count": 101,
            "id": "weekly-translation",
            "metadata": {
                "execution": {
                    "iopub.execute_input": "2021-03-13T11:28:11.137597Z",
                    "iopub.status.busy": "2021-03-13T11:28:11.130537Z",
                    "iopub.status.idle": "2021-03-13T11:28:11.260704Z",
                    "shell.execute_reply": "2021-03-13T11:28:11.260245Z"
                }
            },
            "outputs": [
                {
                    "data": {
                        "text/plain": [
                            "(0.0, 4.0)"
                        ]
                    },
                    "execution_count": 101,
                    "metadata": {},
                    "output_type": "execute_result"
                },
                {
                    "data": {
                        "image/png": "[encoded data removed]",
                        "text/plain": [
                            "<Figure size 360x360 with 1 Axes>"
                        ]
                    },
                    "metadata": {
                        "needs_background": "light"
                    },
                    "output_type": "display_data"
                }
            ],
            "source": [
                "# Creating a square figure (makes it easier to visually confirm projection)\n",
                "plt.figure(figsize=(5, 5))\n",
                "\n",
                "# Plot everything\n",
                "plt.scatter(points[:, 0], points[:, 1]) # Old points\n",
                "plt.scatter(x_hat[0, :], x_hat[1, :]) # Projected points\n",
                "plt.plot(x, y) # Line\n",
                "\n",
                "# Set axes limits to be the same for equal aspect ratio\n",
                "plt.xlim(0, 4)\n",
                "plt.ylim(0, 4)\n"
            ]
        },
        {
            "cell_type": "markdown",
            "id": "medical-binding",
            "metadata": {},
            "source": [
                "Okay, it actually worked. As you should be able to verify, it clearly looks like the points are perpendicular to the line. \n",
                "\n",
                "This hopefully gave you a bit of an overview of this projection process from a practical perspective. Below are a few exercises that should test your understanding.\n",
                "\n",
                "### Tasks\n",
                "1. Try changing the points and line (remember to update the line matrix $U$ as well) and see if things still work.\n",
                "2. The book states that for projections $P^2=P$. Test if this works in practice as well (you just have to duplicate the line doing the transformation)\n",
                "3. Explain (and write this down in your notes) why it makes sense that $P^2=P$. Make an argument that doesn't rely on the algebra but uses only your spatial and geometric intuition.\n",
                "4. When applying projections, the resulting vectors are still in the original vector space, e.g. in this example both the original and projected points are in $R^2$. However, it is possible to get the positions in the subspace itself ($R^1$ because the subspace is a line in this case). To do this, you simply modify the projection matrix formula to the following: $\\hat{P} = (A^TA)^{-1}A^T$ (the leading $A$ is dropped. The notation $\\hat{P}$ is not official is is just used here for convenience). Try to apply this projection to the original points and compare the values with the 2d ones (hint: use length for comparing them).\n"
            ]
        },
        {
            "cell_type": "markdown",
            "id": "cosmetic-potter",
            "metadata": {},
            "source": [
                "## Least squares\n",
                "Later in the course, projections are going to be used for other purposes, but for now the primary purpose is fitting linear models. A *linear model* is just a linear function (i.e. anything you can express with matrix operations) but using the term *model* makes it clear that our aim is to optimise it somehow for some purpose.\n",
                "\n",
                "For now, we focus on a simple two-dimensional case. As in the video lecture from the week on transformations, we have three points that don't quite fit a line perfectly:\n"
            ]
        },
        {
            "cell_type": "code",
            "execution_count": 26,
            "id": "introductory-edwards",
            "metadata": {
                "execution": {
                    "iopub.execute_input": "2021-03-13T11:28:11.276781Z",
                    "iopub.status.busy": "2021-03-13T11:28:11.276189Z",
                    "iopub.status.idle": "2021-03-13T11:28:11.367654Z",
                    "shell.execute_reply": "2021-03-13T11:28:11.368130Z"
                }
            },
            "outputs": [
                {
                    "data": {
                        "text/plain": [
                            "<matplotlib.collections.PathCollection at 0x7fb16ad65f40>"
                        ]
                    },
                    "execution_count": 26,
                    "metadata": {},
                    "output_type": "execute_result"
                },
                {
                    "data": {
                        "image/png": "[encoded data removed]",
                        "text/plain": [
                            "<Figure size 432x288 with 1 Axes>"
                        ]
                    },
                    "metadata": {
                        "needs_background": "light"
                    },
                    "output_type": "display_data"
                }
            ],
            "source": [
                "points = np.array([\n",
                "    [1, 1],\n",
                "    [2, 2],\n",
                "    [3, 2]\n",
                "])\n",
                "plt.scatter(points[:, 0], points[:, 1])\n"
            ]
        },
        {
            "cell_type": "markdown",
            "id": "medium-executive",
            "metadata": {},
            "source": [
                "We want to end up with a line that minimises some form of error, i.e. a best fitting line. This does, however, require us to look a bit differently on the problem than we did previously. In the previous section we projected a set of points onto an existing line. Now, we want to find a line that minimises the error of projecting the points onto it. The heart of the problem is the linear equation\n",
                "\n",
                "$$\n",
                "Ax = b\n",
                "$$\n",
                "\n",
                "Here, $x$ is the unknown and represents a line. This might be confusing because $x$ represented points in the previous section. Another way to understand this is that for a linear function of the form $f(x) = a*x + b$, we may write this in matrix form as either $[a, b]\\binom{x}{1} = y$ or $[x, 1]\\binom{a}{b} = y$. In other words we may either view the function in terms of the variables $x, y$ or the parameters $a, b$. Because we are fitting a line, we want to find the parameters $a, b$ given a number of already provided $(x, y)$ points. Writing out the full equation therefore gives us: \n",
                "\n",
                "$$\n",
                "\\left[\\begin{array}{cc}x_1 & 1\\\\\\vdots & \\vdots \\\\x_n&1\\end{array}\\right] \\binom{a}{b} = \\mathbf{y} = \\left[\\begin{array}{c}y_1\\\\ \\vdots \\\\y_n\\end{array}\\right]\n",
                "$$\n",
                "\n",
                "where $a, b$ are the unknown parameters we want to find. The $1$'s column is what allows this compact notation - it ensures that $b$ is treated as constant. Now, $A$'s column vectors are each elements of $R^n$ but only span a plane ($R^2$) in this space. This space represents all possible valid lines. Since $\\mathbf{y}$ might not be placed on this plane, we cannot solve the equations directly.\n",
                "\n",
                "As demonstrated in the book and lectures, we first have to project $\\mathbf{y}$ onto the plane spanned by $A$. This leads to a new equation $A\\hat{x}=\\hat{\\mathbf{y}}$ which **can** be solved using inverses. \n",
                "\n",
                "\n",
                "### Starting out\n",
                "We start by creating the matrix $A$ (called the **Design Matrix**):\n"
            ]
        },
        {
            "cell_type": "code",
            "execution_count": 27,
            "id": "thorough-continent",
            "metadata": {
                "execution": {
                    "iopub.execute_input": "2021-03-13T11:28:11.371767Z",
                    "iopub.status.busy": "2021-03-13T11:28:11.371188Z",
                    "iopub.status.idle": "2021-03-13T11:28:11.373389Z",
                    "shell.execute_reply": "2021-03-13T11:28:11.373829Z"
                }
            },
            "outputs": [
                {
                    "data": {
                        "text/plain": [
                            "array([[1., 1.],\n",
                            "       [2., 1.],\n",
                            "       [3., 1.]])"
                        ]
                    },
                    "execution_count": 27,
                    "metadata": {},
                    "output_type": "execute_result"
                }
            ],
            "source": [
                "x_vals = points[:, 0]\n",
                "y_vals = points[:, 1]\n",
                "\n",
                "\n",
                "X = np.vstack((x_vals, np.ones(x_vals.shape))).T\n",
                "X\n"
            ]
        },
        {
            "cell_type": "markdown",
            "id": "guilty-continent",
            "metadata": {},
            "source": [
                "### Projection\n",
                "Instead of transforming the line parameters $\\hat{x}$ back into $R^n$ when projecting ($n$ is from the design matrix which has $n$ rows, one for each point), we use the same method you were tasked with implementing in the last section. This gives the equation: $\\hat{x} = (A^TA)^{-1}A^T \\mathbf{\\hat{y}}$ (see the [ST] book page 222 for details):\n"
            ]
        },
        {
            "cell_type": "code",
            "execution_count": 53,
            "id": "improving-innocent",
            "metadata": {
                "execution": {
                    "iopub.execute_input": "2021-03-13T11:28:11.376770Z",
                    "iopub.status.busy": "2021-03-13T11:28:11.376336Z",
                    "iopub.status.idle": "2021-03-13T11:28:11.378081Z",
                    "shell.execute_reply": "2021-03-13T11:28:11.378524Z"
                }
            },
            "outputs": [],
            "source": [
                "# Creating the matrix\n",
                "Pm = np.linalg.inv(X.T.dot(X)).dot(X.T)\n",
                "\n",
                "# Applying the transformation\n",
                "params = Pm.dot(points[:, 1])\n"
            ]
        },
        {
            "cell_type": "markdown",
            "id": "liberal-implement",
            "metadata": {},
            "source": [
                "### Testing\n",
                "Now we want to visualise the resulting line. The `params` vector is of the form $(a, b)$ and the line formula is $f(x)=ax+b$. Below, we calculate a number of points on the line for visualisation purposes and compare with both the original and projected points:\n"
            ]
        },
        {
            "cell_type": "code",
            "execution_count": 54,
            "id": "iraqi-hours",
            "metadata": {
                "execution": {
                    "iopub.execute_input": "2021-03-13T11:28:11.398377Z",
                    "iopub.status.busy": "2021-03-13T11:28:11.397781Z",
                    "iopub.status.idle": "2021-03-13T11:28:11.479264Z",
                    "shell.execute_reply": "2021-03-13T11:28:11.479721Z"
                }
            },
            "outputs": [
                {
                    "data": {
                        "text/plain": [
                            "<matplotlib.collections.PathCollection at 0x7fb16ca8df70>"
                        ]
                    },
                    "execution_count": 54,
                    "metadata": {},
                    "output_type": "execute_result"
                },
                {
                    "data": {
                        "image/png": "[encoded data removed]",
                        "text/plain": [
                            "<Figure size 432x288 with 1 Axes>"
                        ]
                    },
                    "metadata": {
                        "needs_background": "light"
                    },
                    "output_type": "display_data"
                }
            ],
            "source": [
                "x = np.linspace(0, 5) # Create range of values\n",
                "y = x*params[0] + params[1] # Calculate f(x)\n",
                "\n",
                "plt.plot(x, y) # Plot line\n",
                "plt.scatter(points[:, 0], points[:, 1]) # Plot original points\n",
                "\n",
                "y_hat = X.dot(params) # Project original points onto the line (like in the last section)\n",
                "plt.scatter(points[:, 0], y_hat) # Plot the points\n"
            ]
        },
        {
            "cell_type": "markdown",
            "id": "funky-alias",
            "metadata": {},
            "source": [
                "This looks promising. Only the y-positions have moved and the resulting line looks reasonably optimal. However, we need to define some method of evaluating the quality of the fit in a quantitative manner.\n",
                "\n",
                "Remember that both $\\mathbf{y}$ and $\\mathbf{\\hat{y}}$ are vectors. The projection error vector is defined as $e = \\mathbf{y}-\\mathbf{\\hat{y}}$. We use the length of this vector, denoted $||e||_2$, as our error measure. The full equation is:\n",
                "\n",
                "$$\n",
                "||e||_2 = \\sqrt{\\sum_{i=1}^n e_i^2} = \\sqrt{\\sum_{i=1}^n (y_i - \\hat{y}_i)^2}\n",
                "$$ \n",
                "\n",
                "We want to be able to compare errors from datasets of different sizes. We therefore modify the measure to use the averageI  squared error instead:\n",
                "\n",
                "$$\n",
                "f_{RMS}(\\mathbf{y}, \\mathbf{\\hat{y}}) = \\sqrt{\\frac{1}{n} \\sum_{i=1}^n (y_i - \\hat{y}_i)^2}\n",
                "$$\n",
                "\n",
                "Let us start by calculating the error vector itself:\n"
            ]
        },
        {
            "cell_type": "code",
            "execution_count": 10,
            "id": "final-authorization",
            "metadata": {
                "execution": {
                    "iopub.execute_input": "2021-03-13T11:28:11.482751Z",
                    "iopub.status.busy": "2021-03-13T11:28:11.482242Z",
                    "iopub.status.idle": "2021-03-13T11:28:11.484403Z",
                    "shell.execute_reply": "2021-03-13T11:28:11.484858Z"
                }
            },
            "outputs": [
                {
                    "data": {
                        "text/plain": [
                            "array([-0.16666667,  0.33333333, -0.16666667])"
                        ]
                    },
                    "execution_count": 10,
                    "metadata": {},
                    "output_type": "execute_result"
                }
            ],
            "source": [
                "y_hat = X.dot(params)\n",
                "e = y_vals-y_hat\n",
                "e\n"
            ]
        },
        {
            "cell_type": "markdown",
            "id": "pediatric-egypt",
            "metadata": {},
            "source": [
                "And then find the $f_{RMS}$:\n"
            ]
        },
        {
            "cell_type": "code",
            "execution_count": 11,
            "id": "color-concentration",
            "metadata": {
                "execution": {
                    "iopub.execute_input": "2021-03-13T11:28:11.487721Z",
                    "iopub.status.busy": "2021-03-13T11:28:11.487229Z",
                    "iopub.status.idle": "2021-03-13T11:28:11.489776Z",
                    "shell.execute_reply": "2021-03-13T11:28:11.489282Z"
                }
            },
            "outputs": [
                {
                    "data": {
                        "text/plain": [
                            "0.23570226039551595"
                        ]
                    },
                    "execution_count": 11,
                    "metadata": {},
                    "output_type": "execute_result"
                }
            ],
            "source": [
                "np.sqrt((e**2).mean())\n"
            ]
        },
        {
            "cell_type": "markdown",
            "id": "modified-consent",
            "metadata": {},
            "source": [
                "This completes our basic walkthrough of least squares. The next exercise introduces you to how this is done in practice for actual problems using high-level Python libraries. First, however, we conclude this section by asking a number of questions that should help you think about what the least squares method actually is and how it works. Take your time to try and answer these as they are likely a good indicator of things you are expected to understand for the exam.\n",
                "\n",
                "### Tasks\n",
                "1. Try experimenting with changing the points and adding/removing points. What is the minimum number of points required for the method to work and why?\n",
                "2. How does the $f_{RMS}$ compare with the visual fit of the line? Try exploring different possibilities and write down your observations.\n",
                "3. Remember that matrices are functions. When solving equations of the type $Ax = b$, $A$ is then a function and $x$ is the variables. Explain in your own words why line fitting uses the parameters $a, b$ as unknowns. \n",
                "4. If you understand (3), then you should be able to explain why polynomials can be fitted using least squares. A polynomial is a function of the form $f(x, \\theta) = \\sum_{i=0}^n \\theta_ix^i$, where $\\theta$ is a vector of the parameters. For a regular 2d polynomial, this expands to $f(x) = c + bx + ax^2$. The crucial idea is that polynomials are linear when considering the parameters $\\theta$. (The next exercise might give you a better idea of why this is the case).\n"
            ]
        },
        {
            "cell_type": "code",
            "execution_count": null,
            "id": "happy-macro",
            "metadata": {},
            "outputs": [],
            "source": []
        }
    ],
    "metadata": {
        "kernelspec": {
            "display_name": "Python 3 (ipykernel)",
            "language": "python",
            "name": "python3"
        },
        "language_info": {
            "codemirror_mode": {
                "name": "ipython",
                "version": 3
            },
            "file_extension": ".py",
            "mimetype": "text/x-python",
            "name": "python",
            "nbconvert_exporter": "python",
            "pygments_lexer": "ipython3",
            "version": "3.9.5"
        }
    },
    "nbformat": 4,
    "nbformat_minor": 5
}